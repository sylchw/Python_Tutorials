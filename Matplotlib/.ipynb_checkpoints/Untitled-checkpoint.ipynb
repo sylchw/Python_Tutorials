{
 "cells": [
  {
   "cell_type": "markdown",
   "metadata": {},
   "source": [
    "### Matplotlib\n",
    "\n",
    "#### Matplotlib is a `plotting` library for the Python programming language and its numerical mathematics extension NumPy.\n",
    "\n",
    "#### Please complete Pandas and Numpy Tutorials before attempting Matplotlib\n",
    "\n",
    "Datasets required:\n",
    "1. "
   ]
  },
  {
   "cell_type": "markdown",
   "metadata": {},
   "source": [
    "##### Import matplotlib.pyplot as plt, pandas as pd, numpy as np, seaborn as sns\n",
    "\n",
    "##### Copy the configurations below.\n",
    "```python\n",
    "#Display all floats rounded off to 1 decimal place\n",
    "pd.options.display.float_format = '{:,.1f}'.format #THIS SETS THE PANDA STUFF TO 1 DECIMAL PLACE\n",
    "#Plot inline in Jupyter notebook\n",
    "%matplotlib inline\n",
    "#Settings throughout the notebook\n",
    "sns.set()\n",
    "#Width = 16, Height = 6\n",
    "DIMS=(16, 6)\n",
    "```"
   ]
  },
  {
   "cell_type": "code",
   "execution_count": null,
   "metadata": {},
   "outputs": [],
   "source": []
  },
  {
   "cell_type": "markdown",
   "metadata": {},
   "source": []
  },
  {
   "cell_type": "code",
   "execution_count": null,
   "metadata": {},
   "outputs": [],
   "source": []
  },
  {
   "cell_type": "code",
   "execution_count": null,
   "metadata": {},
   "outputs": [],
   "source": []
  },
  {
   "cell_type": "code",
   "execution_count": null,
   "metadata": {},
   "outputs": [],
   "source": []
  },
  {
   "cell_type": "code",
   "execution_count": null,
   "metadata": {},
   "outputs": [],
   "source": []
  },
  {
   "cell_type": "code",
   "execution_count": null,
   "metadata": {},
   "outputs": [],
   "source": []
  },
  {
   "cell_type": "code",
   "execution_count": null,
   "metadata": {},
   "outputs": [],
   "source": []
  }
 ],
 "metadata": {
  "kernelspec": {
   "display_name": "Python 3",
   "language": "python",
   "name": "python3"
  },
  "language_info": {
   "codemirror_mode": {
    "name": "ipython",
    "version": 3
   },
   "file_extension": ".py",
   "mimetype": "text/x-python",
   "name": "python",
   "nbconvert_exporter": "python",
   "pygments_lexer": "ipython3",
   "version": "3.7.3"
  }
 },
 "nbformat": 4,
 "nbformat_minor": 2
}
