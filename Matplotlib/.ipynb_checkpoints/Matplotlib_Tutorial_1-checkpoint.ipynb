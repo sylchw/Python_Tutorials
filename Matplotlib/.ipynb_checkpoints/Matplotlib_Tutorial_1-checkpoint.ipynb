{
 "cells": [
  {
   "cell_type": "markdown",
   "metadata": {},
   "source": [
    "### Matplotlib\n",
    "\n",
    "#### Matplotlib is a `plotting` library for the Python programming language and its numerical mathematics extension NumPy.\n",
    "\n",
    "#### Please complete Pandas and Numpy Tutorials before attempting Matplotlib\n",
    "\n",
    "Datasets required:\n",
    "\n",
    "1. exchange-rates-sgd-per-unit-of-usd-average-for-period-annual.csv"
   ]
  },
  {
   "cell_type": "markdown",
   "metadata": {},
   "source": [
    "##### Import matplotlib.pyplot as plt, pandas as pd, numpy as np, seaborn as sns\n",
    "\n",
    "##### Copy the configurations below.\n",
    "```python\n",
    "#Display all floats rounded off to 2 decimal places\n",
    "pd.options.display.float_format = '{:,.2f}'.format #THIS SETS PANDA DATAFRAME FLOATS TO 2 DECIMAL PLACE\n",
    "#Plot inline in Jupyter notebook\n",
    "%matplotlib inline\n",
    "#Settings throughout the notebook\n",
    "sns.set()\n",
    "#Width = 16, Height = 6\n",
    "DIMS=(16, 6)\n",
    "```"
   ]
  },
  {
   "cell_type": "code",
   "execution_count": 1,
   "metadata": {},
   "outputs": [],
   "source": [
    "import matplotlib.pyplot as plt\n",
    "import pandas as pd\n",
    "import numpy as np\n",
    "import seaborn as sns\n",
    "\n",
    "#Display all floats rounded off to 2 decimal places\n",
    "pd.options.display.float_format = '{:,.2f}'.format #THIS SETS PANDA DATAFRAME FLOATS TO 2 DECIMAL PLACE\n",
    "#Plot inline in Jupyter notebook\n",
    "%matplotlib inline\n",
    "#Settings throughout the notebook\n",
    "sns.set()\n",
    "#Width = 16, Height = 6\n",
    "DIMS=(16, 6)"
   ]
  },
  {
   "cell_type": "markdown",
   "metadata": {},
   "source": [
    "#### Read the CSV file into a dataframe\n",
    "exchange-rates-sgd-per-unit-of-usd-average-for-period-annual.csv"
   ]
  },
  {
   "cell_type": "code",
   "execution_count": 10,
   "metadata": {},
   "outputs": [
    {
     "data": {
      "text/html": [
       "<div>\n",
       "<style scoped>\n",
       "    .dataframe tbody tr th:only-of-type {\n",
       "        vertical-align: middle;\n",
       "    }\n",
       "\n",
       "    .dataframe tbody tr th {\n",
       "        vertical-align: top;\n",
       "    }\n",
       "\n",
       "    .dataframe thead th {\n",
       "        text-align: right;\n",
       "    }\n",
       "</style>\n",
       "<table border=\"1\" class=\"dataframe\">\n",
       "  <thead>\n",
       "    <tr style=\"text-align: right;\">\n",
       "      <th></th>\n",
       "      <th>year</th>\n",
       "      <th>sgd_per_unit_of_usd</th>\n",
       "    </tr>\n",
       "  </thead>\n",
       "  <tbody>\n",
       "    <tr>\n",
       "      <th>0</th>\n",
       "      <td>1988</td>\n",
       "      <td>2.01</td>\n",
       "    </tr>\n",
       "    <tr>\n",
       "      <th>1</th>\n",
       "      <td>1989</td>\n",
       "      <td>1.95</td>\n",
       "    </tr>\n",
       "    <tr>\n",
       "      <th>2</th>\n",
       "      <td>1990</td>\n",
       "      <td>1.81</td>\n",
       "    </tr>\n",
       "    <tr>\n",
       "      <th>3</th>\n",
       "      <td>1991</td>\n",
       "      <td>1.73</td>\n",
       "    </tr>\n",
       "    <tr>\n",
       "      <th>4</th>\n",
       "      <td>1992</td>\n",
       "      <td>1.63</td>\n",
       "    </tr>\n",
       "  </tbody>\n",
       "</table>\n",
       "</div>"
      ],
      "text/plain": [
       "   year  sgd_per_unit_of_usd\n",
       "0  1988                 2.01\n",
       "1  1989                 1.95\n",
       "2  1990                 1.81\n",
       "3  1991                 1.73\n",
       "4  1992                 1.63"
      ]
     },
     "execution_count": 10,
     "metadata": {},
     "output_type": "execute_result"
    }
   ],
   "source": [
    "df = pd.read_csv('exchange-rates-sgd-per-unit-of-usd-average-for-period-annual.csv')\n",
    "df.head()"
   ]
  },
  {
   "cell_type": "markdown",
   "metadata": {},
   "source": [
    "### Sample plot\n",
    "\n",
    "Identify features of a plot. Run this code to see the plot."
   ]
  },
  {
   "cell_type": "code",
   "execution_count": 14,
   "metadata": {},
   "outputs": [
    {
     "data": {
      "text/plain": [
       "<matplotlib.legend.Legend at 0x1d87bdc25f8>"
      ]
     },
     "execution_count": 14,
     "metadata": {},
     "output_type": "execute_result"
    },
    {
     "data": {
      "image/png": "[encoded data removed]",
      "text/plain": [
       "<Figure size 1152x432 with 1 Axes>"
      ]
     },
     "metadata": {
      "needs_background": "light"
     },
     "output_type": "display_data"
    }
   ],
   "source": [
    "# fig and axes\n",
    "fig = plt.figure(figsize=DIMS)\n",
    "ax1 = fig.add_subplot(111)\n",
    "# Set the title of the subplot\n",
    "ax1.set_title(\"SGD per unit of USD exchange rate 1988 to 2014\", fontsize=16)\n",
    "# Plot from the df\n",
    "df.plot(kind='line', x='year', y='sgd_per_unit_of_usd', ax=ax1, marker=\"o\")\n",
    "# Configure the ticks and labels of the x-axis...\n",
    "plt.xticks(np.arange(1988, 2015))\n",
    "plt.xlabel(\"Year\")\n",
    "# ...and y-axis\n",
    "plt.yticks(np.arange(0, 4))\n",
    "plt.ylabel(\"SGD per unit of USD\", fontsize=12)\n",
    "#Add the legend\n",
    "ax1.legend([\"SGD per unit of USD\"], fontsize=12)"
   ]
  },
  {
   "cell_type": "code",
   "execution_count": null,
   "metadata": {},
   "outputs": [],
   "source": []
  },
  {
   "cell_type": "code",
   "execution_count": null,
   "metadata": {},
   "outputs": [],
   "source": []
  },
  {
   "cell_type": "code",
   "execution_count": null,
   "metadata": {},
   "outputs": [],
   "source": []
  }
 ],
 "metadata": {
  "kernelspec": {
   "display_name": "Python 3",
   "language": "python",
   "name": "python3"
  },
  "language_info": {
   "codemirror_mode": {
    "name": "ipython",
    "version": 3
   },
   "file_extension": ".py",
   "mimetype": "text/x-python",
   "name": "python",
   "nbconvert_exporter": "python",
   "pygments_lexer": "ipython3",
   "version": "3.7.3"
  }
 },
 "nbformat": 4,
 "nbformat_minor": 2
}
