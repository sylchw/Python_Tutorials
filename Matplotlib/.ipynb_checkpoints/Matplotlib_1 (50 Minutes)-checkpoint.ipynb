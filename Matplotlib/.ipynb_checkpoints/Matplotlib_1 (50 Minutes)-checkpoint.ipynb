{
 "cells": [
  {
   "cell_type": "markdown",
   "metadata": {},
   "source": [
    "### Matplotlib\n",
    "\n",
    "#### Matplotlib is a `plotting` library for the Python programming language and its numerical mathematics extension NumPy.\n",
    "\n",
    "#### Please complete Pandas and Numpy Tutorials before attempting Matplotlib\n",
    "\n",
    "#### Things covered: \n",
    "- Line Graph\n",
    "- Bar Graph\n",
    "- Clustered Bar Graph\n",
    "- Histogram\n",
    "- Boxplot\n",
    "- Scatterplot\n",
    "\n",
    "Datasets required:\n",
    "\n",
    "1. exchange-rates-sgd-per-unit-of-usd-average-for-period-annual.csv (Data.gov.sg)\n",
    "2. consumer-price-index-base-year-2014-100-annual.csv (Data.gov.sg)\n",
    "3. graduates-from-university-first-degree-courses-by-type-of-course.csv (Data.gov.sg)\n",
    "4. graduate-employment-survey-ntu-nus-sit-smu-sutd.csv (Singstat)\n",
    "5. MU.csv (Yahoo Finance)\n",
    "6. samsung.csv (Yahoo Finance)"
   ]
  },
  {
   "cell_type": "markdown",
   "metadata": {},
   "source": [
    "##### Import \n",
    "- matplotlib.pyplot as plt\n",
    "- pandas as pd \n",
    "- numpy as np\n",
    "- seaborn as sns\n",
    "\n",
    "##### Copy the configurations below.\n",
    "```python\n",
    "#Display all floats rounded off to 2 decimal places\n",
    "pd.options.display.float_format = '{:,.2f}'.format #THIS SETS PANDA DATAFRAME FLOATS TO 2 DECIMAL PLACE\n",
    "#Plot inline in Jupyter notebook\n",
    "%matplotlib inline\n",
    "#Settings throughout the notebook\n",
    "sns.set()\n",
    "#Width = 16, Height = 6\n",
    "DIMS=(16, 6)\n",
    "```"
   ]
  },
  {
   "cell_type": "code",
   "execution_count": 51,
   "metadata": {},
   "outputs": [],
   "source": []
  },
  {
   "cell_type": "markdown",
   "metadata": {},
   "source": [
    "#### Read the CSV file into a df\n",
    "exchange-rates-sgd-per-unit-of-usd-average-for-period-annual.csv"
   ]
  },
  {
   "cell_type": "code",
   "execution_count": 48,
   "metadata": {},
   "outputs": [
    {
     "data": {
      "text/html": [
       "<div>\n",
       "<style scoped>\n",
       "    .dataframe tbody tr th:only-of-type {\n",
       "        vertical-align: middle;\n",
       "    }\n",
       "\n",
       "    .dataframe tbody tr th {\n",
       "        vertical-align: top;\n",
       "    }\n",
       "\n",
       "    .dataframe thead th {\n",
       "        text-align: right;\n",
       "    }\n",
       "</style>\n",
       "<table border=\"1\" class=\"dataframe\">\n",
       "  <thead>\n",
       "    <tr style=\"text-align: right;\">\n",
       "      <th></th>\n",
       "      <th>year</th>\n",
       "      <th>sgd_per_unit_of_usd</th>\n",
       "    </tr>\n",
       "  </thead>\n",
       "  <tbody>\n",
       "    <tr>\n",
       "      <th>0</th>\n",
       "      <td>1988</td>\n",
       "      <td>2.01</td>\n",
       "    </tr>\n",
       "    <tr>\n",
       "      <th>1</th>\n",
       "      <td>1989</td>\n",
       "      <td>1.95</td>\n",
       "    </tr>\n",
       "    <tr>\n",
       "      <th>2</th>\n",
       "      <td>1990</td>\n",
       "      <td>1.81</td>\n",
       "    </tr>\n",
       "    <tr>\n",
       "      <th>3</th>\n",
       "      <td>1991</td>\n",
       "      <td>1.73</td>\n",
       "    </tr>\n",
       "    <tr>\n",
       "      <th>4</th>\n",
       "      <td>1992</td>\n",
       "      <td>1.63</td>\n",
       "    </tr>\n",
       "  </tbody>\n",
       "</table>\n",
       "</div>"
      ],
      "text/plain": [
       "   year  sgd_per_unit_of_usd\n",
       "0  1988                 2.01\n",
       "1  1989                 1.95\n",
       "2  1990                 1.81\n",
       "3  1991                 1.73\n",
       "4  1992                 1.63"
      ]
     },
     "execution_count": 48,
     "metadata": {},
     "output_type": "execute_result"
    }
   ],
   "source": []
  },
  {
   "cell_type": "markdown",
   "metadata": {},
   "source": [
    "### Sample plot\n",
    "\n",
    "Identify features of a plot. Run this code to see the plot."
   ]
  },
  {
   "cell_type": "code",
   "execution_count": 1,
   "metadata": {},
   "outputs": [],
   "source": [
    "# fig and axes\n",
    "fig = plt.figure(figsize=DIMS)\n",
    "axis = fig.add_subplot(111)\n",
    "# Set the title of the subplot\n",
    "axis.set_title(\"SGD per unit of USD exchange rate 1988 to 2014\", fontsize=16)\n",
    "# Plot from the df\n",
    "df.plot(kind='line', x='year', y='sgd_per_unit_of_usd', ax=axis, marker=\"o\")\n",
    "# Configure the ticks and labels of the x-axis...\n",
    "plt.xticks(np.arange(1988, 2015))\n",
    "plt.xlabel(\"Year\")\n",
    "# ...and y-axis\n",
    "plt.yticks(np.arange(0, 4))\n",
    "plt.ylabel(\"SGD per unit of USD\", fontsize=12)\n",
    "#Add the legend\n",
    "axis.legend([\"SGD per unit of USD\"], fontsize=12)"
   ]
  },
  {
   "cell_type": "markdown",
   "metadata": {},
   "source": [
    "## Line Graph\n",
    "\n",
    "A line graph is used to show a trend in data over time. Select the x-axis to show the various time periods, and the y-axis to show the matric.\n",
    "\n",
    "First, read the csv into a dataframe.\n",
    "- consumer-price-index-base-year-2014-100-annual.csv"
   ]
  },
  {
   "cell_type": "code",
   "execution_count": null,
   "metadata": {},
   "outputs": [],
   "source": []
  },
  {
   "cell_type": "markdown",
   "metadata": {},
   "source": [
    "#### Replace the 'na' metrics in 'values' with '0'\n",
    "Hint: Use .replace('source', 'target')"
   ]
  },
  {
   "cell_type": "code",
   "execution_count": null,
   "metadata": {},
   "outputs": [],
   "source": []
  },
  {
   "cell_type": "markdown",
   "metadata": {},
   "source": [
    "##### Filter the df to only contain All Items"
   ]
  },
  {
   "cell_type": "code",
   "execution_count": null,
   "metadata": {},
   "outputs": [],
   "source": []
  },
  {
   "cell_type": "markdown",
   "metadata": {},
   "source": [
    "##### Plot a line graph\n",
    "\n",
    "To plot a line graph, simply use the df variable's plot function from pandas. `You do not have to use Matplotlib yet`. Specify the following parameters:\n",
    "\n",
    "- the kind of graph to plot: 'line' in this case\n",
    "- x for the Series representing the  𝑥 -axis\n",
    "- y for the Series representing the  𝑦 -axis\n",
    "- marker to denote the shape of each coordinate on the chart. 'D' to represent a shaded diamond\n",
    "- figsize which is a tuple representing the (width, height) of the plot image.\n",
    "\n",
    "Example: `df.plot(kind='line',x = 'X_Col_Name',y = 'Y_Col_Name', marker = 'X', figsize = DIMS)`\n",
    "\n",
    "For markers, you may choose '.', 'o', 'X'\n",
    "\n",
    "##### Plot the line graph with `year` as X axis and `value` as Y axis\n",
    "Do convert the strings found in year and value to int and float before plotting with .apply(np.int) and .apply(np.float)"
   ]
  },
  {
   "cell_type": "code",
   "execution_count": null,
   "metadata": {},
   "outputs": [],
   "source": []
  },
  {
   "cell_type": "markdown",
   "metadata": {},
   "source": [
    "### Features lacking\n",
    "\n",
    "#### Notice that the graph is lacking a y-axis label, and no title. Use `axis.set_ylabel()` and `axis.set_title()` to add them.\n",
    "\n",
    "##### It is also helpful to set xticks and yticks (The increment sizes)\n",
    "##### Use `axis.set_xticks()` and `axis.set_yticks()`. The parameter is an numpy.arange(min, max, step), all ints. The first two values represent the lower and upper limits of your graph. The last value represents the frequency of each tick. The smaller the frequency, the more \"ticks\" you see on the graph.\n",
    "\n",
    "##### Refer to the example given at the start to plot the graph with the labels. Include the heading, legend and x and y axis labels."
   ]
  },
  {
   "cell_type": "code",
   "execution_count": 5,
   "metadata": {},
   "outputs": [],
   "source": [
    "#Start a plot by creating a figure and adding empty subjects.\n",
    "\n",
    "fig = plt.figure(figsize=DIMS)\n",
    "#set the fig\n",
    "\n",
    "axis = fig.add_subplot(111)\n",
    "#\"111\" means \"1x1 grid, first subplot\" and \"234\" means \"2x3 grid, 4th subplot\"\n",
    "#it can also be written as fig.add_subplot(1,1,1)\n",
    "\n",
    "### Continue below"
   ]
  },
  {
   "cell_type": "markdown",
   "metadata": {},
   "source": [
    "## Bar Graph\n",
    "\n",
    "Bar graphs can be used to examine `cross sectional` or `categorical` data. This involves looking at `different segments` of the population at `one point in time`. It could mean observations at a `certain year, quarter or month`.\n",
    "\n",
    "Dataset used: graduates-from-university-first-degree-courses-by-type-of-course.csv\n",
    "\n",
    "First, read the csv file into a `graduates_df`"
   ]
  },
  {
   "cell_type": "code",
   "execution_count": null,
   "metadata": {},
   "outputs": [],
   "source": []
  },
  {
   "cell_type": "markdown",
   "metadata": {},
   "source": [
    "Next, filter the df to only include `Males` in <b>sex</b>, `Information Technology` in <b>type_of_course</b>."
   ]
  },
  {
   "cell_type": "code",
   "execution_count": null,
   "metadata": {},
   "outputs": [],
   "source": []
  },
  {
   "cell_type": "markdown",
   "metadata": {},
   "source": [
    "##### Change the `strings` in `year` and `no_of_graduates` to `int`with `apply.(np.int)`.\n",
    "\n",
    "If you miss this step, it may show an **error** stating \n",
    "- Empty 'DataFrame': no `numeric data` to plot"
   ]
  },
  {
   "cell_type": "code",
   "execution_count": 94,
   "metadata": {},
   "outputs": [],
   "source": []
  },
  {
   "cell_type": "markdown",
   "metadata": {},
   "source": [
    "Plot a bar graph showing the employment_change of the selected sector of the industry over the years."
   ]
  },
  {
   "cell_type": "code",
   "execution_count": null,
   "metadata": {},
   "outputs": [],
   "source": []
  },
  {
   "cell_type": "markdown",
   "metadata": {},
   "source": [
    "## Clustered bar graph\n",
    "\n",
    "Clustered bar graphs can be used to show a `comparison` between `different groups` across the `same segments` determined by the `x-axis`.\n",
    "\n",
    "From the overall graduates_df, filter the df to only include `Females` in <b>sex</b>, `Information Technology` in <b>type_of_course</b>."
   ]
  },
  {
   "cell_type": "code",
   "execution_count": null,
   "metadata": {},
   "outputs": [],
   "source": []
  },
  {
   "cell_type": "markdown",
   "metadata": {},
   "source": [
    "Change the `strings` in `year` and `no_of_graduates` to `int`with `apply.(np.int)`.\n",
    "\n",
    "If you miss this step, it may show an error stating \n",
    "- Empty 'DataFrame': no `numeric data` to plot"
   ]
  },
  {
   "cell_type": "code",
   "execution_count": null,
   "metadata": {},
   "outputs": [],
   "source": []
  },
  {
   "cell_type": "markdown",
   "metadata": {},
   "source": [
    "Combine both male and female Dataframes together into 1."
   ]
  },
  {
   "cell_type": "code",
   "execution_count": null,
   "metadata": {},
   "outputs": [],
   "source": []
  },
  {
   "cell_type": "markdown",
   "metadata": {},
   "source": [
    "To plot a clustered bar plot, add **both** `Series` to the same subplot. Use `ax=axis` to for this. For the `position` parameter, the **rightmost bar is the smallest number**, starting from `1`. The `width` of the bar needs to be adjusted too. Finally, for the `color` value, use [this link](https://python-graph-gallery.com/100-calling-a-color-with-seaborn/) to find good color representations that are soothing for the eye."
   ]
  },
  {
   "cell_type": "code",
   "execution_count": null,
   "metadata": {},
   "outputs": [],
   "source": []
  },
  {
   "cell_type": "markdown",
   "metadata": {},
   "source": [
    "## Boxplot\n",
    "\n",
    "A boxplot is used to show the median, 25 and 75 percentile. It is also useful to show the outliers in a dataset. To plot a boxplot, use `plot(kind='box')` for the `Series`.\n",
    "\n",
    "First, read graduate-employment-survey-ntu-nus-sit-smu-sutd.csv into a `graduate_employment_df`."
   ]
  },
  {
   "cell_type": "code",
   "execution_count": null,
   "metadata": {
    "scrolled": true
   },
   "outputs": [],
   "source": []
  },
  {
   "cell_type": "markdown",
   "metadata": {},
   "source": [
    "##### Remove the na results with filter by doing != 'na'\n",
    "\n",
    "##### Afterwards, Convert basic_monthly_median to integer with .apply(np.int)"
   ]
  },
  {
   "cell_type": "code",
   "execution_count": null,
   "metadata": {},
   "outputs": [],
   "source": []
  },
  {
   "cell_type": "markdown",
   "metadata": {},
   "source": [
    "#### Plot the boxplot with `basic_monthly_median` column selected in the series.\n",
    "##### For boxplot, you may only plot with a series."
   ]
  },
  {
   "cell_type": "code",
   "execution_count": null,
   "metadata": {},
   "outputs": [],
   "source": []
  },
  {
   "cell_type": "markdown",
   "metadata": {},
   "source": [
    "## Scatterplot\n",
    "\n",
    "Scatterplot can be used to spot relationship between 2 variables. Each axis represents a variable, and each coordinate represents the *joint observation* of both variables. The closer all the points are closer to some defined line (linear, quadratic, exponential etc.), the stronger the correlation between the variables *based on that function*. \n",
    "\n",
    "Read `MU.csv` into `mu_df` and `samsung.csv` into `samsung_df`"
   ]
  },
  {
   "cell_type": "code",
   "execution_count": null,
   "metadata": {},
   "outputs": [],
   "source": []
  },
  {
   "cell_type": "markdown",
   "metadata": {},
   "source": [
    "##### For each df, obtain only 2 columns, the `Date` and `Adj Close` columns and put them into `mu_df_close` and `samsung_df_close`"
   ]
  },
  {
   "cell_type": "code",
   "execution_count": null,
   "metadata": {},
   "outputs": [],
   "source": []
  },
  {
   "cell_type": "markdown",
   "metadata": {},
   "source": [
    "##### Rename the columns of `Adj Close` in mu_df_close to `mu_df_close` and `Adj Close` in samsung_df_close to `samsung_df_close`\n",
    "\n",
    "Use the .rename() function in pandas.\n",
    "\n",
    "Example: `df.rename(index=str, columns={\"Adj Close\": \"mu_close\"})`"
   ]
  },
  {
   "cell_type": "code",
   "execution_count": null,
   "metadata": {},
   "outputs": [],
   "source": []
  },
  {
   "cell_type": "markdown",
   "metadata": {},
   "source": [
    "##### Merge the 2 df together with a df1.merge(df2) function on column Date. \n",
    "This is similar to an inner join in SQL.\n",
    "\n",
    "Example: `df_merged = df1.merge(df2, on=\"Date\")` to merge on column Date."
   ]
  },
  {
   "cell_type": "code",
   "execution_count": null,
   "metadata": {},
   "outputs": [],
   "source": []
  },
  {
   "cell_type": "markdown",
   "metadata": {},
   "source": [
    "##### Before plotting, you may use .describe() or .info to get the general information of the merged df."
   ]
  },
  {
   "cell_type": "code",
   "execution_count": null,
   "metadata": {},
   "outputs": [],
   "source": []
  },
  {
   "cell_type": "markdown",
   "metadata": {},
   "source": [
    "### Plotting a scatterplot\n",
    "\n",
    "To plot a scatter plot, use `df.plot()`. Fill in `kind='scatter'` to indicate a scatter plot. Specify the $x$ and $y$ axes using the name of the columns. Also, specify the `title`. For both axes, the axis label is the name of the column."
   ]
  },
  {
   "cell_type": "code",
   "execution_count": null,
   "metadata": {},
   "outputs": [],
   "source": []
  },
  {
   "cell_type": "markdown",
   "metadata": {},
   "source": [
    "#### Afterwards, you may wish to see how related the 2 datasets are with correlation.\n",
    "\n",
    "Use `df[col1].corr(df[col2])` to obtain the correlation coefficient.\n",
    "\n",
    "In our example, it shows a low correlation due to Simpson's paradox\n",
    "\n",
    "Simpson's paradox\n",
    "![image.png](https://upload.wikimedia.org/wikipedia/commons/thumb/f/fb/Simpsons_paradox_-_animation.gif/220px-Simpsons_paradox_-_animation.gif)"
   ]
  },
  {
   "cell_type": "code",
   "execution_count": null,
   "metadata": {},
   "outputs": [],
   "source": []
  },
  {
   "cell_type": "markdown",
   "metadata": {},
   "source": [
    "## 3D Plots\n",
    "\n",
    "3D Plots are used to explore a relationship with a third axis as compared to usual plots which only show relationships on 2 axes.\n",
    "\n",
    "**This will not be covered today**\n",
    "\n",
    "Below is an example of a 3D plot, \n",
    "\n",
    "If you wish to learn more about 3D Plots, you may refer [here](https://matplotlib.org/mpl_toolkits/mplot3d/tutorial.html)."
   ]
  },
  {
   "cell_type": "code",
   "execution_count": 218,
   "metadata": {},
   "outputs": [
    {
     "data": {
      "image/png": "[encoded data removed]",
      "text/plain": [
       "<Figure size 432x288 with 1 Axes>"
      ]
     },
     "metadata": {},
     "output_type": "display_data"
    }
   ],
   "source": [
    "import matplotlib as mpl\n",
    "from mpl_toolkits.mplot3d import Axes3D\n",
    "# import numpy as np\n",
    "# import matplotlib.pyplot as plt\n",
    "\n",
    "mpl.rcParams['legend.fontsize'] = 10\n",
    "\n",
    "fig = plt.figure()\n",
    "ax = fig.gca(projection='3d')\n",
    "\n",
    "theta = np.linspace(-4 * np.pi, 4 * np.pi, 100)\n",
    "\n",
    "z = np.linspace(-2, 2, 100)\n",
    "r = z**2 + 1\n",
    "x = r * np.sin(theta)\n",
    "y = r * np.cos(theta)\n",
    "\n",
    "ax.plot(x, y, z, label='parametric curve')\n",
    "ax.legend()\n",
    "\n",
    "plt.show()"
   ]
  }
 ],
 "metadata": {
  "kernelspec": {
   "display_name": "Python 3",
   "language": "python",
   "name": "python3"
  },
  "language_info": {
   "codemirror_mode": {
    "name": "ipython",
    "version": 3
   },
   "file_extension": ".py",
   "mimetype": "text/x-python",
   "name": "python",
   "nbconvert_exporter": "python",
   "pygments_lexer": "ipython3",
   "version": "3.7.3"
  }
 },
 "nbformat": 4,
 "nbformat_minor": 2
}
