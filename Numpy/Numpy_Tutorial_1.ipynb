{
 "cells": [
  {
   "cell_type": "markdown",
   "metadata": {},
   "source": [
    "### Numpy\n",
    "\n",
    "#### NumPy is a library for the Python programming language, adding support for large, multi-dimensional arrays and matrices, along with a large collection of high-level mathematical functions to operate on these arrays.\n",
    "\n",
    "#### Please complete Pandas Tutorial before starting on Numpy.\n",
    "\n",
    "Datasets Required:\n",
    "1. exchange-rates-sgd-per-unit-of-usd-daily.csv\n",
    "2. graduates-from-university-first-degree-courses-by-type-of-course.csv"
   ]
  },
  {
   "cell_type": "markdown",
   "metadata": {},
   "source": [
    "#### Import pandas and numpy"
   ]
  },
  {
   "cell_type": "code",
   "execution_count": null,
   "metadata": {},
   "outputs": [],
   "source": []
  },
  {
   "cell_type": "markdown",
   "metadata": {},
   "source": [
    "#### Import CSV file into a dataframe"
   ]
  },
  {
   "cell_type": "code",
   "execution_count": null,
   "metadata": {},
   "outputs": [],
   "source": []
  },
  {
   "cell_type": "markdown",
   "metadata": {},
   "source": [
    "### Quartiles\n",
    "\n",
    "#### The first, second and third quartiles of a series, are the 25 percentile, 50 percentile and 75 percentile respectively.\n",
    "\n",
    "Use np.percentile(SERIES, `x`) to get the `x`th percentile of the distribution.\n",
    "\n",
    "Find the 25th. 50th and 75th percentile of the exchange_rate_usd."
   ]
  },
  {
   "cell_type": "code",
   "execution_count": null,
   "metadata": {},
   "outputs": [],
   "source": [
    "\n"
   ]
  },
  {
   "cell_type": "markdown",
   "metadata": {},
   "source": [
    "### Interquartile Range\n",
    "\n",
    "Interquartile range is defined as `third quartile - first quartile`.\n",
    "\n",
    "This can be used to determine outliers, which are values that lie outside `[ (1st_quartile - 1.5 * IQR) , (3rd_quartile + 1.5 * IQR) ]`\n",
    "\n",
    "Find the interquartile range of exchange_rate_usd."
   ]
  },
  {
   "cell_type": "code",
   "execution_count": null,
   "metadata": {},
   "outputs": [],
   "source": []
  },
  {
   "cell_type": "markdown",
   "metadata": {},
   "source": [
    "Find the lower and upper bound of the exchange_rate_usd for determining outliers. [ lower bound, upper bound ]"
   ]
  },
  {
   "cell_type": "code",
   "execution_count": null,
   "metadata": {},
   "outputs": [],
   "source": []
  },
  {
   "cell_type": "markdown",
   "metadata": {},
   "source": [
    "Find all days which are outliers.\n",
    "\n",
    "Hint* Set conditions to identify outliers, and apply the conditions to the dataframe. You should have no outliers. Why?"
   ]
  },
  {
   "cell_type": "code",
   "execution_count": null,
   "metadata": {},
   "outputs": [],
   "source": []
  },
  {
   "cell_type": "markdown",
   "metadata": {},
   "source": [
    "### np.int() np.float() np.sum()\n",
    "\n",
    "#### These functions can be used to convert datatypes in a dataframe.\n",
    "\n",
    "First of all, read graduates-from-university-first-degree-courses-by-type-of-course.csv into a dataframe called df3"
   ]
  },
  {
   "cell_type": "code",
   "execution_count": null,
   "metadata": {},
   "outputs": [],
   "source": []
  },
  {
   "cell_type": "markdown",
   "metadata": {},
   "source": [
    "#### Attempt to change the no_of_graduates column to 'float' type. Note that there will be a value error as there are cells with 'na'\n",
    "\n",
    "Run the code with .apply(np.float)"
   ]
  },
  {
   "cell_type": "code",
   "execution_count": null,
   "metadata": {},
   "outputs": [],
   "source": []
  },
  {
   "cell_type": "markdown",
   "metadata": {},
   "source": [
    "#### To fix this, use the .replace() function in Pandas to replace 'na' values with '0'. This can also be used with 'Nil Return' (NULL) values.\n",
    "\n",
    "Steps:\n",
    "1. Make a copy of the df3 to df_new\n",
    "2. See that df_new has 'na' as one of the values with .unique()\n",
    "3. .replace takes in 2 parameters ('source', 'target')\n",
    "4. Replace 'source' with 'target' from `no_of_graduates`, in our case, 'na' with '0'. \n",
    "5. Check that df_new no longer has 'na' with .unique()\n",
    "6. Change the type to float."
   ]
  },
  {
   "cell_type": "code",
   "execution_count": null,
   "metadata": {},
   "outputs": [],
   "source": []
  },
  {
   "cell_type": "markdown",
   "metadata": {},
   "source": [
    "#### Convert it back to int with np.int()"
   ]
  },
  {
   "cell_type": "code",
   "execution_count": null,
   "metadata": {},
   "outputs": [],
   "source": []
  },
  {
   "cell_type": "markdown",
   "metadata": {},
   "source": [
    "#### Use np.sum() to sum values in an array. In this case, let's find out the total number of university graduates in Singapore from 1993 to 2014.\n",
    "\n",
    "##### First, replace 'na' with '0' (done above), create a series for no_of_graduates, then use np.sum(series)"
   ]
  },
  {
   "cell_type": "code",
   "execution_count": null,
   "metadata": {},
   "outputs": [],
   "source": []
  }
 ],
 "metadata": {
  "kernelspec": {
   "display_name": "Python 3",
   "language": "python",
   "name": "python3"
  },
  "language_info": {
   "codemirror_mode": {
    "name": "ipython",
    "version": 3
   },
   "file_extension": ".py",
   "mimetype": "text/x-python",
   "name": "python",
   "nbconvert_exporter": "python",
   "pygments_lexer": "ipython3",
   "version": "3.7.3"
  }
 },
 "nbformat": 4,
 "nbformat_minor": 2
}
