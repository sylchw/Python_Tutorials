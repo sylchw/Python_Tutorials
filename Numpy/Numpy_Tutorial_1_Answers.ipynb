{
 "cells": [
  {
   "cell_type": "markdown",
   "metadata": {},
   "source": [
    "### Numpy\n",
    "\n",
    "#### NumPy is a library for the Python programming language, adding support for large, multi-dimensional arrays and matrices, along with a large collection of high-level mathematical functions to operate on these arrays.\n",
    "\n",
    "#### Please complete Pandas Tutorial before starting on Numpy.\n",
    "\n",
    "Datasets Required:\n",
    "1. exchange-rates-sgd-per-unit-of-usd-daily.csv"
   ]
  },
  {
   "cell_type": "markdown",
   "metadata": {},
   "source": [
    "#### Import pandas and numpy"
   ]
  },
  {
   "cell_type": "code",
   "execution_count": 2,
   "metadata": {},
   "outputs": [],
   "source": [
    "import pandas as pd\n",
    "import numpy as np"
   ]
  },
  {
   "cell_type": "markdown",
   "metadata": {},
   "source": [
    "#### Import CSV file into a dataframe"
   ]
  },
  {
   "cell_type": "code",
   "execution_count": 3,
   "metadata": {},
   "outputs": [
    {
     "data": {
      "text/html": [
       "<div>\n",
       "<style scoped>\n",
       "    .dataframe tbody tr th:only-of-type {\n",
       "        vertical-align: middle;\n",
       "    }\n",
       "\n",
       "    .dataframe tbody tr th {\n",
       "        vertical-align: top;\n",
       "    }\n",
       "\n",
       "    .dataframe thead th {\n",
       "        text-align: right;\n",
       "    }\n",
       "</style>\n",
       "<table border=\"1\" class=\"dataframe\">\n",
       "  <thead>\n",
       "    <tr style=\"text-align: right;\">\n",
       "      <th></th>\n",
       "      <th>date</th>\n",
       "      <th>exchange_rate_usd</th>\n",
       "    </tr>\n",
       "  </thead>\n",
       "  <tbody>\n",
       "    <tr>\n",
       "      <th>0</th>\n",
       "      <td>1988-01-08</td>\n",
       "      <td>2.0443</td>\n",
       "    </tr>\n",
       "    <tr>\n",
       "      <th>1</th>\n",
       "      <td>1988-01-15</td>\n",
       "      <td>2.0313</td>\n",
       "    </tr>\n",
       "    <tr>\n",
       "      <th>2</th>\n",
       "      <td>1988-01-22</td>\n",
       "      <td>2.0205</td>\n",
       "    </tr>\n",
       "    <tr>\n",
       "      <th>3</th>\n",
       "      <td>1988-01-29</td>\n",
       "      <td>2.0182</td>\n",
       "    </tr>\n",
       "    <tr>\n",
       "      <th>4</th>\n",
       "      <td>1988-02-05</td>\n",
       "      <td>2.0160</td>\n",
       "    </tr>\n",
       "  </tbody>\n",
       "</table>\n",
       "</div>"
      ],
      "text/plain": [
       "         date  exchange_rate_usd\n",
       "0  1988-01-08             2.0443\n",
       "1  1988-01-15             2.0313\n",
       "2  1988-01-22             2.0205\n",
       "3  1988-01-29             2.0182\n",
       "4  1988-02-05             2.0160"
      ]
     },
     "execution_count": 3,
     "metadata": {},
     "output_type": "execute_result"
    }
   ],
   "source": [
    "df = pd.read_csv('exchange-rates-sgd-per-unit-of-usd-daily.csv')\n",
    "df.head()"
   ]
  },
  {
   "cell_type": "markdown",
   "metadata": {},
   "source": [
    "### Quartiles\n",
    "\n",
    "#### The first, second and third quartiles of a series, are the 25 percentile, 50 percentile and 75 percentile respectively.\n",
    "\n",
    "Use np.percentile(SERIES, `x`) to get the `x`th percentile of the distribution.\n",
    "\n",
    "Find the 25th. 50th and 75th percentile of the exchange_rate_usd."
   ]
  },
  {
   "cell_type": "code",
   "execution_count": 4,
   "metadata": {},
   "outputs": [
    {
     "name": "stdout",
     "output_type": "stream",
     "text": [
      "1.3033\n",
      "-------------\n",
      "1.4622\n",
      "-------------\n",
      "1.6691\n"
     ]
    }
   ],
   "source": [
    "print(np.percentile(df['exchange_rate_usd'], 25))\n",
    "print('-------------')\n",
    "print(np.percentile(df['exchange_rate_usd'], 50))\n",
    "print('-------------')\n",
    "print(np.percentile(df['exchange_rate_usd'], 75))\n"
   ]
  },
  {
   "cell_type": "markdown",
   "metadata": {},
   "source": [
    "### Interquartile Range\n",
    "\n",
    "Interquartile range is defined as `third quartile - first quartile`.\n",
    "\n",
    "This can be used to determine outliers, which are values that lie outside `[ (1st_quartile - 1.5 * IQR) , (3rd_quartile + 1.5 * IQR) ]`\n",
    "\n",
    "Find the interquartile range of exchange_rate_usd."
   ]
  },
  {
   "cell_type": "code",
   "execution_count": null,
   "metadata": {},
   "outputs": [],
   "source": []
  },
  {
   "cell_type": "markdown",
   "metadata": {},
   "source": [
    "Find the lower and upper bound of the exchange_rate_usd."
   ]
  },
  {
   "cell_type": "code",
   "execution_count": null,
   "metadata": {},
   "outputs": [],
   "source": []
  },
  {
   "cell_type": "markdown",
   "metadata": {},
   "source": [
    "Find all days which are outliers.\n",
    "\n",
    "Hint* Set conditions to identify outliers, and apply the conditions to the dataframe."
   ]
  },
  {
   "cell_type": "code",
   "execution_count": null,
   "metadata": {},
   "outputs": [],
   "source": []
  }
 ],
 "metadata": {
  "kernelspec": {
   "display_name": "Python 3",
   "language": "python",
   "name": "python3"
  },
  "language_info": {
   "codemirror_mode": {
    "name": "ipython",
    "version": 3
   },
   "file_extension": ".py",
   "mimetype": "text/x-python",
   "name": "python",
   "nbconvert_exporter": "python",
   "pygments_lexer": "ipython3",
   "version": "3.7.3"
  }
 },
 "nbformat": 4,
 "nbformat_minor": 2
}
