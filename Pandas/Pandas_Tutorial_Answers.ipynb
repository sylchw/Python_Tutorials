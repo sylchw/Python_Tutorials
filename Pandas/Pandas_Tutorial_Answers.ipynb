{
 "cells": [
  {
   "cell_type": "markdown",
   "metadata": {},
   "source": [
    "### Pandas Tutorial\n",
    "\n",
    "#### What is pandas?\n",
    "Pandas is a software library written for the Python programming language for data manipulation and analysis. In particular, it offers data structures and operations for manipulating numerical tables and time series.\n",
    "\n",
    "Most data will be processed with the help of `DataFrames`.\n",
    "\n",
    "List of milestones:\n",
    "\n",
    "- Key properties of a `Dataframe`\n",
    "- Read CSV into `Dataframe`\n",
    "- Read Database into `Dataframe`\n",
    "\n",
    "#### Datasets Required\n",
    "1.\n",
    "\n",
    "All datasets are downloaded from data.gov.sg"
   ]
  },
  {
   "cell_type": "markdown",
   "metadata": {},
   "source": [
    "#### Step 1. Imports"
   ]
  },
  {
   "cell_type": "code",
   "execution_count": 3,
   "metadata": {},
   "outputs": [],
   "source": [
    "#Import pandas and numpy\n",
    "\n",
    "import pandas as pd\n",
    "import numpy as np"
   ]
  },
  {
   "cell_type": "markdown",
   "metadata": {},
   "source": [
    "### Instantiating a Dataframe\n",
    "\n",
    "You can create a dataframe data from a CSV file.\n",
    "\n",
    "Use pd.read_csv() to read CSV data into a Dataframe.\n",
    "\n",
    "Documentation can be seen [here](https://pandas.pydata.org/pandas-docs/stable/generated/pandas.read_csv.html#pandas.read_csv).\n",
    "\n",
    "CSV Source can be accessed [here](https://data.gov.sg/dataset/annual-motor-vehicle-population-by-vehicle-type?view_id=6aca1157-ea79-4e39-9e58-3e5313a9a715&resource_id=dec53407-9f97-47b8-ba89-b2070569a09e)"
   ]
  },
  {
   "cell_type": "code",
   "execution_count": 4,
   "metadata": {},
   "outputs": [],
   "source": [
    "#To read from CSV file\n",
    "\n",
    "dataframe = pd.read_csv('annual-motor-vehicle-population-by-vehicle-type.csv')\n"
   ]
  },
  {
   "cell_type": "markdown",
   "metadata": {},
   "source": [
    "The commands below prints out the <b>basic details</b> of the dataframe.\n",
    "\n",
    "- dataframe.dtypes (Column types)\n",
    "- dataframe.columns (available columns)\n",
    "- dataframe.shape (number of rows and columns)\n"
   ]
  },
  {
   "cell_type": "code",
   "execution_count": 6,
   "metadata": {},
   "outputs": [
    {
     "name": "stdout",
     "output_type": "stream",
     "text": [
      "year         int64\n",
      "category    object\n",
      "type        object\n",
      "number       int64\n",
      "dtype: object\n",
      "-----------------\n",
      "Index(['year', 'category', 'type', 'number'], dtype='object')\n",
      "-----------------\n",
      "(260, 4)\n"
     ]
    }
   ],
   "source": [
    "#to check column types\n",
    "print(dataframe.dtypes)\n",
    "\n",
    "print('-----------------')\n",
    "\n",
    "#to check columns with columns\n",
    "print(dataframe.columns)\n",
    "\n",
    "print('-----------------')\n",
    "\n",
    "#to check number of rows and columns\n",
    "print(dataframe.shape)\n",
    "\n"
   ]
  },
  {
   "cell_type": "markdown",
   "metadata": {},
   "source": [
    "The commands below prints out <b>data inside</b> the dataframe.\n",
    "\n",
    "- dataframe.head() (Prints out the first 5 data by default)\n",
    "\n",
    "Try dataframe.head(*integer*)\n",
    "\n",
    "- dataframe.sample() (Prints out a random sampled row in the dataframe)"
   ]
  },
  {
   "cell_type": "code",
   "execution_count": 7,
   "metadata": {},
   "outputs": [
    {
     "data": {
      "text/html": [
       "<div>\n",
       "<style scoped>\n",
       "    .dataframe tbody tr th:only-of-type {\n",
       "        vertical-align: middle;\n",
       "    }\n",
       "\n",
       "    .dataframe tbody tr th {\n",
       "        vertical-align: top;\n",
       "    }\n",
       "\n",
       "    .dataframe thead th {\n",
       "        text-align: right;\n",
       "    }\n",
       "</style>\n",
       "<table border=\"1\" class=\"dataframe\">\n",
       "  <thead>\n",
       "    <tr style=\"text-align: right;\">\n",
       "      <th></th>\n",
       "      <th>year</th>\n",
       "      <th>category</th>\n",
       "      <th>type</th>\n",
       "      <th>number</th>\n",
       "    </tr>\n",
       "  </thead>\n",
       "  <tbody>\n",
       "    <tr>\n",
       "      <th>0</th>\n",
       "      <td>2005</td>\n",
       "      <td>Cars &amp; Station-wagons</td>\n",
       "      <td>Private cars</td>\n",
       "      <td>401638</td>\n",
       "    </tr>\n",
       "    <tr>\n",
       "      <th>1</th>\n",
       "      <td>2006</td>\n",
       "      <td>Cars &amp; Station-wagons</td>\n",
       "      <td>Private cars</td>\n",
       "      <td>421904</td>\n",
       "    </tr>\n",
       "    <tr>\n",
       "      <th>2</th>\n",
       "      <td>2007</td>\n",
       "      <td>Cars &amp; Station-wagons</td>\n",
       "      <td>Private cars</td>\n",
       "      <td>451745</td>\n",
       "    </tr>\n",
       "    <tr>\n",
       "      <th>3</th>\n",
       "      <td>2008</td>\n",
       "      <td>Cars &amp; Station-wagons</td>\n",
       "      <td>Private cars</td>\n",
       "      <td>476634</td>\n",
       "    </tr>\n",
       "    <tr>\n",
       "      <th>4</th>\n",
       "      <td>2009</td>\n",
       "      <td>Cars &amp; Station-wagons</td>\n",
       "      <td>Private cars</td>\n",
       "      <td>497116</td>\n",
       "    </tr>\n",
       "  </tbody>\n",
       "</table>\n",
       "</div>"
      ],
      "text/plain": [
       "   year               category          type  number\n",
       "0  2005  Cars & Station-wagons  Private cars  401638\n",
       "1  2006  Cars & Station-wagons  Private cars  421904\n",
       "2  2007  Cars & Station-wagons  Private cars  451745\n",
       "3  2008  Cars & Station-wagons  Private cars  476634\n",
       "4  2009  Cars & Station-wagons  Private cars  497116"
      ]
     },
     "execution_count": 7,
     "metadata": {},
     "output_type": "execute_result"
    }
   ],
   "source": [
    "#try .head()\n",
    "\n",
    "dataframe.head()"
   ]
  },
  {
   "cell_type": "code",
   "execution_count": 8,
   "metadata": {},
   "outputs": [
    {
     "data": {
      "text/html": [
       "<div>\n",
       "<style scoped>\n",
       "    .dataframe tbody tr th:only-of-type {\n",
       "        vertical-align: middle;\n",
       "    }\n",
       "\n",
       "    .dataframe tbody tr th {\n",
       "        vertical-align: top;\n",
       "    }\n",
       "\n",
       "    .dataframe thead th {\n",
       "        text-align: right;\n",
       "    }\n",
       "</style>\n",
       "<table border=\"1\" class=\"dataframe\">\n",
       "  <thead>\n",
       "    <tr style=\"text-align: right;\">\n",
       "      <th></th>\n",
       "      <th>year</th>\n",
       "      <th>category</th>\n",
       "      <th>type</th>\n",
       "      <th>number</th>\n",
       "    </tr>\n",
       "  </thead>\n",
       "  <tbody>\n",
       "    <tr>\n",
       "      <th>104</th>\n",
       "      <td>2009</td>\n",
       "      <td>Goods &amp; Other Vehicles</td>\n",
       "      <td>Very Heavy Goods Vehicles (VHGVs)</td>\n",
       "      <td>12962</td>\n",
       "    </tr>\n",
       "  </tbody>\n",
       "</table>\n",
       "</div>"
      ],
      "text/plain": [
       "     year                category                               type  number\n",
       "104  2009  Goods & Other Vehicles  Very Heavy Goods Vehicles (VHGVs)   12962"
      ]
     },
     "execution_count": 8,
     "metadata": {},
     "output_type": "execute_result"
    }
   ],
   "source": [
    "#try .sample()\n",
    "\n",
    "dataframe.sample()"
   ]
  },
  {
   "cell_type": "markdown",
   "metadata": {},
   "source": [
    "### Retrieving data from a dataframe for data processing\n",
    "\n",
    "#### Retrieving columns:\n",
    "A column retrieved and stored as a variable is of type <b> series</b>.\n",
    "\n",
    "Extract the column with dataframe[\"Column_Name\"]"
   ]
  },
  {
   "cell_type": "code",
   "execution_count": 10,
   "metadata": {},
   "outputs": [
    {
     "data": {
      "text/plain": [
       "pandas.core.series.Series"
      ]
     },
     "execution_count": 10,
     "metadata": {},
     "output_type": "execute_result"
    }
   ],
   "source": [
    "#Extract the \"year\" column and store it into series\n",
    "\n",
    "series = dataframe[\"year\"]\n",
    "type(series)"
   ]
  },
  {
   "cell_type": "markdown",
   "metadata": {},
   "source": [
    "Similar to a dataframe, .sample() and .head() can be used to extract information"
   ]
  },
  {
   "cell_type": "code",
   "execution_count": 13,
   "metadata": {},
   "outputs": [
    {
     "name": "stdout",
     "output_type": "stream",
     "text": [
      "256    2017\n",
      "Name: year, dtype: int64\n",
      "-------------\n",
      "0    2005\n",
      "1    2006\n",
      "2    2007\n",
      "3    2008\n",
      "4    2009\n",
      "Name: year, dtype: int64\n"
     ]
    }
   ],
   "source": [
    "#Try .sample() and .head() on series\n",
    "\n",
    "print(series.sample())\n",
    "\n",
    "print (\"-------------\")\n",
    "\n",
    "print(series.head())"
   ]
  },
  {
   "cell_type": "markdown",
   "metadata": {},
   "source": [
    "##### Retrieve a specific record from the dataframe\n",
    "\n",
    "Retrieve a specific record from the dataframe with dataframe.iloc[]\n",
    ".iloc uses zero indexing"
   ]
  },
  {
   "cell_type": "code",
   "execution_count": 15,
   "metadata": {},
   "outputs": [
    {
     "name": "stdout",
     "output_type": "stream",
     "text": [
      "year                         2007\n",
      "category    Cars & Station-wagons\n",
      "type                 Private cars\n",
      "number                     451745\n",
      "Name: 2, dtype: object\n"
     ]
    }
   ],
   "source": [
    "#Get the details of row index 2. Check if it has a year 2007. Name your variable row_2\n",
    "\n",
    "row_2 = dataframe.iloc[2]\n",
    "print(row_2)"
   ]
  },
  {
   "cell_type": "markdown",
   "metadata": {},
   "source": [
    "##### Complete the following code to get the number, category and type of vehicle based on the series in index 2, selected in the previous box.\n",
    "\n",
    "Use the column indexing method to retrieve data in a specific column. Eg. row_2['Column_name']"
   ]
  },
  {
   "cell_type": "code",
   "execution_count": 20,
   "metadata": {},
   "outputs": [
    {
     "name": "stdout",
     "output_type": "stream",
     "text": [
      "In 2007, there are 451745 Private cars in Singapore\n",
      "Private cars belong to the Cars & Station-wagons category.\n"
     ]
    }
   ],
   "source": [
    "veh_num = 0\n",
    "veh_type = ''\n",
    "veh_cat = ''\n",
    "veh_year = 0\n",
    "###############\n",
    "\n",
    "veh_cat = row_2['category']\n",
    "veh_type = row_2['type']\n",
    "veh_num = row_2['number']\n",
    "veh_year = row_2['year']\n",
    "\n",
    "print('In ' + str(veh_year) + ', there are ' + str(veh_num) + ' ' + str(veh_type) + ' in Singapore')\n",
    "print(str(veh_type) + ' belong to the ' + str(veh_cat) + ' category.')"
   ]
  },
  {
   "cell_type": "markdown",
   "metadata": {},
   "source": [
    "### Filtering records\n",
    "\n",
    "#### You can perform filters to the dataframe to get a set of data that you want.\n",
    "\n",
    "Use the following code structure to do so.\n",
    "\n",
    "```python\n",
    "dataframe[dataframe['column'] <conditional operator> <value>]\n",
    "```\n",
    "\n",
    "----------------------------------\n",
    "\n",
    "Before filtering, it is `good practice` to perform a copy of the dataframe first, so modifications done while filtering do not affect the original dataframe.\n",
    "\n",
    "Do so with dataframe.copy()\n",
    "\n",
    "##### After which, identify the records whose number of vehicles are above 100_000\n",
    "\n",
    "Insert the condition by creating a condition variable:\n",
    "- condition = dataframe2['Column_name'] > Integer\n",
    "\n",
    "Apply the condition:\n",
    "- dataframe2[condition]\n",
    "\n",
    "Another method to filter will be to define the condition directly in the dataframe.\n",
    "- dataframe2[dataframe2['Column_name'] > Integer]"
   ]
  },
  {
   "cell_type": "code",
   "execution_count": 29,
   "metadata": {},
   "outputs": [
    {
     "name": "stdout",
     "output_type": "stream",
     "text": [
      "     year                  category                      type  number\n",
      "0    2005     Cars & Station-wagons              Private cars  401638\n",
      "1    2006     Cars & Station-wagons              Private cars  421904\n",
      "2    2007     Cars & Station-wagons              Private cars  451745\n",
      "3    2008     Cars & Station-wagons              Private cars  476634\n",
      "4    2009     Cars & Station-wagons              Private cars  497116\n",
      "5    2010     Cars & Station-wagons              Private cars  511125\n",
      "6    2011     Cars & Station-wagons              Private cars  520614\n",
      "7    2012     Cars & Station-wagons              Private cars  535233\n",
      "8    2013     Cars & Station-wagons              Private cars  540063\n",
      "9    2014     Cars & Station-wagons              Private cars  536882\n",
      "60   2005               Motorcycles               Motorcycles  138588\n",
      "61   2006               Motorcycles               Motorcycles  141881\n",
      "62   2007               Motorcycles               Motorcycles  143482\n",
      "63   2008               Motorcycles               Motorcycles  145288\n",
      "64   2009               Motorcycles               Motorcycles  146337\n",
      "65   2010               Motorcycles               Motorcycles  147282\n",
      "66   2011               Motorcycles               Motorcycles  145680\n",
      "67   2012               Motorcycles               Motorcycles  143286\n",
      "68   2013               Motorcycles               Motorcycles  144307\n",
      "69   2014               Motorcycles               Motorcycles  144404\n",
      "200  2015     Cars & Station-wagons              Private cars  519645\n",
      "206  2015               Motorcycles               Motorcycles  143279\n",
      "220  2016     Cars & Station-wagons              Private cars  504160\n",
      "226  2016               Motorcycles               Motorcycles  142439\n",
      "240  2017   Cars and Station-wagons              Private cars  502187\n",
      "246  2017  Motorcycles and Scooters  Motorcycles and Scooters  141304\n"
     ]
    }
   ],
   "source": [
    "#Before filtering, it is good practice to perform a copy of the dataframe first, so modifications done\n",
    "#while filtering do not affect the original dataframe.\n",
    "\n",
    "dataframe2 = dataframe.copy()\n",
    "\n",
    "condition = dataframe2['number'] > 100_000\n",
    "\n",
    "print(dataframe2[condition])\n",
    "\n",
    "#Uncomment this to view result\n",
    "# print(dataframe2[dataframe2['number'] > 100_000])"
   ]
  },
  {
   "cell_type": "markdown",
   "metadata": {},
   "source": [
    "##### Besides integers, you can use string comparators.\n",
    "\n",
    "dataframe2['type'] == 'Motorcycles and Scooters'"
   ]
  },
  {
   "cell_type": "code",
   "execution_count": 30,
   "metadata": {},
   "outputs": [
    {
     "name": "stdout",
     "output_type": "stream",
     "text": [
      "     year                  category                      type  number\n",
      "246  2017  Motorcycles and Scooters  Motorcycles and Scooters  141304\n"
     ]
    }
   ],
   "source": [
    "print(dataframe2[dataframe2['type'] == 'Motorcycles and Scooters'])"
   ]
  }
 ],
 "metadata": {
  "kernelspec": {
   "display_name": "Python 3",
   "language": "python",
   "name": "python3"
  },
  "language_info": {
   "codemirror_mode": {
    "name": "ipython",
    "version": 3
   },
   "file_extension": ".py",
   "mimetype": "text/x-python",
   "name": "python",
   "nbconvert_exporter": "python",
   "pygments_lexer": "ipython3",
   "version": "3.7.3"
  }
 },
 "nbformat": 4,
 "nbformat_minor": 2
}
