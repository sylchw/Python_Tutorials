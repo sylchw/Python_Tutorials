{
 "cells": [
  {
   "cell_type": "markdown",
   "metadata": {},
   "source": [
    "### Pandas Tutorial\n",
    "\n",
    "#### What is pandas?\n",
    "Pandas is a software library written for the Python programming language for data manipulation and analysis. In particular, it offers data structures and operations for manipulating numerical tables and time series.\n",
    "\n",
    "Most data will be processed with the help of `DataFrames`.\n",
    "\n",
    "List of milestones:\n",
    "\n",
    "- Key properties of a `Dataframe`\n",
    "- Read CSV into `Dataframe`\n",
    "- Read Database into `Dataframe`\n",
    "\n",
    "#### Datasets Required\n",
    "1.\n",
    "\n",
    "All datasets are downloaded from data.gov.sg"
   ]
  },
  {
   "cell_type": "markdown",
   "metadata": {},
   "source": [
    "#### Step 1. Imports"
   ]
  },
  {
   "cell_type": "code",
   "execution_count": 3,
   "metadata": {},
   "outputs": [],
   "source": [
    "#Import pandas and numpy\n",
    "\n",
    "import pandas as pd\n",
    "import numpy as np"
   ]
  },
  {
   "cell_type": "markdown",
   "metadata": {},
   "source": [
    "### Instantiating a Dataframe\n",
    "\n",
    "You can create a dataframe data from a CSV file.\n",
    "\n",
    "Use pd.read_csv() to read CSV data into a Dataframe.\n",
    "\n",
    "Documentation can be seen [here](https://pandas.pydata.org/pandas-docs/stable/generated/pandas.read_csv.html#pandas.read_csv).\n",
    "\n",
    "CSV Source can be accessed [here](https://data.gov.sg/dataset/annual-motor-vehicle-population-by-vehicle-type?view_id=6aca1157-ea79-4e39-9e58-3e5313a9a715&resource_id=dec53407-9f97-47b8-ba89-b2070569a09e)"
   ]
  },
  {
   "cell_type": "code",
   "execution_count": 4,
   "metadata": {},
   "outputs": [],
   "source": [
    "#To read from CSV file\n",
    "\n",
    "dataframe = pd.read_csv('annual-motor-vehicle-population-by-vehicle-type.csv')\n"
   ]
  },
  {
   "cell_type": "markdown",
   "metadata": {},
   "source": [
    "The commands below prints out the <b>basic details</b> of the dataframe.\n",
    "\n",
    "- dataframe.dtypes (Column types)\n",
    "- dataframe.columns (available columns)\n",
    "- dataframe.shape (number of rows and columns)\n"
   ]
  },
  {
   "cell_type": "code",
   "execution_count": 6,
   "metadata": {},
   "outputs": [
    {
     "name": "stdout",
     "output_type": "stream",
     "text": [
      "year         int64\n",
      "category    object\n",
      "type        object\n",
      "number       int64\n",
      "dtype: object\n",
      "-----------------\n",
      "Index(['year', 'category', 'type', 'number'], dtype='object')\n",
      "-----------------\n",
      "(260, 4)\n"
     ]
    }
   ],
   "source": [
    "#to check column types\n",
    "print(dataframe.dtypes)\n",
    "\n",
    "print('-----------------')\n",
    "\n",
    "#to check columns with columns\n",
    "print(dataframe.columns)\n",
    "\n",
    "print('-----------------')\n",
    "\n",
    "#to check number of rows and columns\n",
    "print(dataframe.shape)\n",
    "\n"
   ]
  },
  {
   "cell_type": "markdown",
   "metadata": {},
   "source": [
    "The commands below prints out <b>data inside</b> the dataframe.\n",
    "\n",
    "- dataframe.head() (Prints out the first 5 data by default)\n",
    "\n",
    "Try dataframe.head(*integer*)\n",
    "\n",
    "- dataframe.sample() (Prints out a random sampled row in the dataframe)"
   ]
  },
  {
   "cell_type": "code",
   "execution_count": 7,
   "metadata": {},
   "outputs": [
    {
     "data": {
      "text/html": [
       "<div>\n",
       "<style scoped>\n",
       "    .dataframe tbody tr th:only-of-type {\n",
       "        vertical-align: middle;\n",
       "    }\n",
       "\n",
       "    .dataframe tbody tr th {\n",
       "        vertical-align: top;\n",
       "    }\n",
       "\n",
       "    .dataframe thead th {\n",
       "        text-align: right;\n",
       "    }\n",
       "</style>\n",
       "<table border=\"1\" class=\"dataframe\">\n",
       "  <thead>\n",
       "    <tr style=\"text-align: right;\">\n",
       "      <th></th>\n",
       "      <th>year</th>\n",
       "      <th>category</th>\n",
       "      <th>type</th>\n",
       "      <th>number</th>\n",
       "    </tr>\n",
       "  </thead>\n",
       "  <tbody>\n",
       "    <tr>\n",
       "      <th>0</th>\n",
       "      <td>2005</td>\n",
       "      <td>Cars &amp; Station-wagons</td>\n",
       "      <td>Private cars</td>\n",
       "      <td>401638</td>\n",
       "    </tr>\n",
       "    <tr>\n",
       "      <th>1</th>\n",
       "      <td>2006</td>\n",
       "      <td>Cars &amp; Station-wagons</td>\n",
       "      <td>Private cars</td>\n",
       "      <td>421904</td>\n",
       "    </tr>\n",
       "    <tr>\n",
       "      <th>2</th>\n",
       "      <td>2007</td>\n",
       "      <td>Cars &amp; Station-wagons</td>\n",
       "      <td>Private cars</td>\n",
       "      <td>451745</td>\n",
       "    </tr>\n",
       "    <tr>\n",
       "      <th>3</th>\n",
       "      <td>2008</td>\n",
       "      <td>Cars &amp; Station-wagons</td>\n",
       "      <td>Private cars</td>\n",
       "      <td>476634</td>\n",
       "    </tr>\n",
       "    <tr>\n",
       "      <th>4</th>\n",
       "      <td>2009</td>\n",
       "      <td>Cars &amp; Station-wagons</td>\n",
       "      <td>Private cars</td>\n",
       "      <td>497116</td>\n",
       "    </tr>\n",
       "  </tbody>\n",
       "</table>\n",
       "</div>"
      ],
      "text/plain": [
       "   year               category          type  number\n",
       "0  2005  Cars & Station-wagons  Private cars  401638\n",
       "1  2006  Cars & Station-wagons  Private cars  421904\n",
       "2  2007  Cars & Station-wagons  Private cars  451745\n",
       "3  2008  Cars & Station-wagons  Private cars  476634\n",
       "4  2009  Cars & Station-wagons  Private cars  497116"
      ]
     },
     "execution_count": 7,
     "metadata": {},
     "output_type": "execute_result"
    }
   ],
   "source": [
    "#try .head()\n",
    "\n",
    "dataframe.head()"
   ]
  },
  {
   "cell_type": "code",
   "execution_count": 8,
   "metadata": {},
   "outputs": [
    {
     "data": {
      "text/html": [
       "<div>\n",
       "<style scoped>\n",
       "    .dataframe tbody tr th:only-of-type {\n",
       "        vertical-align: middle;\n",
       "    }\n",
       "\n",
       "    .dataframe tbody tr th {\n",
       "        vertical-align: top;\n",
       "    }\n",
       "\n",
       "    .dataframe thead th {\n",
       "        text-align: right;\n",
       "    }\n",
       "</style>\n",
       "<table border=\"1\" class=\"dataframe\">\n",
       "  <thead>\n",
       "    <tr style=\"text-align: right;\">\n",
       "      <th></th>\n",
       "      <th>year</th>\n",
       "      <th>category</th>\n",
       "      <th>type</th>\n",
       "      <th>number</th>\n",
       "    </tr>\n",
       "  </thead>\n",
       "  <tbody>\n",
       "    <tr>\n",
       "      <th>104</th>\n",
       "      <td>2009</td>\n",
       "      <td>Goods &amp; Other Vehicles</td>\n",
       "      <td>Very Heavy Goods Vehicles (VHGVs)</td>\n",
       "      <td>12962</td>\n",
       "    </tr>\n",
       "  </tbody>\n",
       "</table>\n",
       "</div>"
      ],
      "text/plain": [
       "     year                category                               type  number\n",
       "104  2009  Goods & Other Vehicles  Very Heavy Goods Vehicles (VHGVs)   12962"
      ]
     },
     "execution_count": 8,
     "metadata": {},
     "output_type": "execute_result"
    }
   ],
   "source": [
    "#try .sample()\n",
    "\n",
    "dataframe.sample()"
   ]
  },
  {
   "cell_type": "markdown",
   "metadata": {},
   "source": [
    "### Retrieving data from a dataframe for data processing\n",
    "\n",
    "#### Retrieving columns:\n",
    "A column retrieved and stored as a variable is of type <b> series</b>."
   ]
  },
  {
   "cell_type": "markdown",
   "metadata": {},
   "source": []
  },
  {
   "cell_type": "code",
   "execution_count": null,
   "metadata": {},
   "outputs": [],
   "source": []
  }
 ],
 "metadata": {
  "kernelspec": {
   "display_name": "Python 3",
   "language": "python",
   "name": "python3"
  },
  "language_info": {
   "codemirror_mode": {
    "name": "ipython",
    "version": 3
   },
   "file_extension": ".py",
   "mimetype": "text/x-python",
   "name": "python",
   "nbconvert_exporter": "python",
   "pygments_lexer": "ipython3",
   "version": "3.7.3"
  }
 },
 "nbformat": 4,
 "nbformat_minor": 2
}
