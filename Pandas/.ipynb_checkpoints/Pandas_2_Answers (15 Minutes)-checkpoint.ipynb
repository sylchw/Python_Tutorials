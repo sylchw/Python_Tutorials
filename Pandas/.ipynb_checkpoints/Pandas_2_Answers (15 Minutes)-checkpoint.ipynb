{
 "cells": [
  {
   "cell_type": "markdown",
   "metadata": {},
   "source": [
    "### Basic Analytics with Pandas\n",
    "\n",
    "#### Mean, median and mode\n",
    "#### Variance, standard deviation\n",
    "#### Skewness. kurtosis\n",
    "\n",
    "#### Datasets Required\n",
    "1. annual-motor-vehicle-population-by-vehicle-type.csv (Data.gov.sg)\n",
    "2. graduate-employment-survey.csv (Singstat)\n",
    "\n",
    "All datasets are downloaded from data.gov.sg"
   ]
  },
  {
   "cell_type": "markdown",
   "metadata": {},
   "source": [
    "### Import Pandas"
   ]
  },
  {
   "cell_type": "code",
   "execution_count": 2,
   "metadata": {},
   "outputs": [],
   "source": [
    "import pandas as pd"
   ]
  },
  {
   "cell_type": "markdown",
   "metadata": {},
   "source": [
    "### Read CSV into dataframe"
   ]
  },
  {
   "cell_type": "code",
   "execution_count": 5,
   "metadata": {},
   "outputs": [],
   "source": [
    "df = pd.read_csv('annual-motor-vehicle-population-by-vehicle-type.csv')"
   ]
  },
  {
   "cell_type": "markdown",
   "metadata": {},
   "source": [
    "### Practice displaying the first 5 records in the dataframe"
   ]
  },
  {
   "cell_type": "code",
   "execution_count": 6,
   "metadata": {},
   "outputs": [
    {
     "data": {
      "text/html": [
       "<div>\n",
       "<style scoped>\n",
       "    .dataframe tbody tr th:only-of-type {\n",
       "        vertical-align: middle;\n",
       "    }\n",
       "\n",
       "    .dataframe tbody tr th {\n",
       "        vertical-align: top;\n",
       "    }\n",
       "\n",
       "    .dataframe thead th {\n",
       "        text-align: right;\n",
       "    }\n",
       "</style>\n",
       "<table border=\"1\" class=\"dataframe\">\n",
       "  <thead>\n",
       "    <tr style=\"text-align: right;\">\n",
       "      <th></th>\n",
       "      <th>year</th>\n",
       "      <th>category</th>\n",
       "      <th>type</th>\n",
       "      <th>number</th>\n",
       "    </tr>\n",
       "  </thead>\n",
       "  <tbody>\n",
       "    <tr>\n",
       "      <th>0</th>\n",
       "      <td>2005</td>\n",
       "      <td>Cars &amp; Station-wagons</td>\n",
       "      <td>Private cars</td>\n",
       "      <td>401638</td>\n",
       "    </tr>\n",
       "    <tr>\n",
       "      <th>1</th>\n",
       "      <td>2006</td>\n",
       "      <td>Cars &amp; Station-wagons</td>\n",
       "      <td>Private cars</td>\n",
       "      <td>421904</td>\n",
       "    </tr>\n",
       "    <tr>\n",
       "      <th>2</th>\n",
       "      <td>2007</td>\n",
       "      <td>Cars &amp; Station-wagons</td>\n",
       "      <td>Private cars</td>\n",
       "      <td>451745</td>\n",
       "    </tr>\n",
       "    <tr>\n",
       "      <th>3</th>\n",
       "      <td>2008</td>\n",
       "      <td>Cars &amp; Station-wagons</td>\n",
       "      <td>Private cars</td>\n",
       "      <td>476634</td>\n",
       "    </tr>\n",
       "    <tr>\n",
       "      <th>4</th>\n",
       "      <td>2009</td>\n",
       "      <td>Cars &amp; Station-wagons</td>\n",
       "      <td>Private cars</td>\n",
       "      <td>497116</td>\n",
       "    </tr>\n",
       "  </tbody>\n",
       "</table>\n",
       "</div>"
      ],
      "text/plain": [
       "   year               category          type  number\n",
       "0  2005  Cars & Station-wagons  Private cars  401638\n",
       "1  2006  Cars & Station-wagons  Private cars  421904\n",
       "2  2007  Cars & Station-wagons  Private cars  451745\n",
       "3  2008  Cars & Station-wagons  Private cars  476634\n",
       "4  2009  Cars & Station-wagons  Private cars  497116"
      ]
     },
     "execution_count": 6,
     "metadata": {},
     "output_type": "execute_result"
    }
   ],
   "source": [
    "df.head()"
   ]
  },
  {
   "cell_type": "markdown",
   "metadata": {},
   "source": [
    "### Summary of dataframe statistics\n",
    "\n",
    "Use .describe() to retrieve a summary of each of the columns in the dataframe.\n",
    "\n",
    "The 25%, 50% and 75% are the percentiles respectively."
   ]
  },
  {
   "cell_type": "code",
   "execution_count": 7,
   "metadata": {},
   "outputs": [
    {
     "data": {
      "text/html": [
       "<div>\n",
       "<style scoped>\n",
       "    .dataframe tbody tr th:only-of-type {\n",
       "        vertical-align: middle;\n",
       "    }\n",
       "\n",
       "    .dataframe tbody tr th {\n",
       "        vertical-align: top;\n",
       "    }\n",
       "\n",
       "    .dataframe thead th {\n",
       "        text-align: right;\n",
       "    }\n",
       "</style>\n",
       "<table border=\"1\" class=\"dataframe\">\n",
       "  <thead>\n",
       "    <tr style=\"text-align: right;\">\n",
       "      <th></th>\n",
       "      <th>year</th>\n",
       "      <th>number</th>\n",
       "    </tr>\n",
       "  </thead>\n",
       "  <tbody>\n",
       "    <tr>\n",
       "      <th>count</th>\n",
       "      <td>260.000000</td>\n",
       "      <td>260.000000</td>\n",
       "    </tr>\n",
       "    <tr>\n",
       "      <th>mean</th>\n",
       "      <td>2011.000000</td>\n",
       "      <td>45846.419231</td>\n",
       "    </tr>\n",
       "    <tr>\n",
       "      <th>std</th>\n",
       "      <td>3.748874</td>\n",
       "      <td>109181.988385</td>\n",
       "    </tr>\n",
       "    <tr>\n",
       "      <th>min</th>\n",
       "      <td>2005.000000</td>\n",
       "      <td>274.000000</td>\n",
       "    </tr>\n",
       "    <tr>\n",
       "      <th>25%</th>\n",
       "      <td>2008.000000</td>\n",
       "      <td>2413.250000</td>\n",
       "    </tr>\n",
       "    <tr>\n",
       "      <th>50%</th>\n",
       "      <td>2011.000000</td>\n",
       "      <td>7636.500000</td>\n",
       "    </tr>\n",
       "    <tr>\n",
       "      <th>75%</th>\n",
       "      <td>2014.000000</td>\n",
       "      <td>28222.250000</td>\n",
       "    </tr>\n",
       "    <tr>\n",
       "      <th>max</th>\n",
       "      <td>2017.000000</td>\n",
       "      <td>540063.000000</td>\n",
       "    </tr>\n",
       "  </tbody>\n",
       "</table>\n",
       "</div>"
      ],
      "text/plain": [
       "              year         number\n",
       "count   260.000000     260.000000\n",
       "mean   2011.000000   45846.419231\n",
       "std       3.748874  109181.988385\n",
       "min    2005.000000     274.000000\n",
       "25%    2008.000000    2413.250000\n",
       "50%    2011.000000    7636.500000\n",
       "75%    2014.000000   28222.250000\n",
       "max    2017.000000  540063.000000"
      ]
     },
     "execution_count": 7,
     "metadata": {},
     "output_type": "execute_result"
    }
   ],
   "source": [
    "df.describe()"
   ]
  },
  {
   "cell_type": "markdown",
   "metadata": {},
   "source": [
    "#### Categorical fields\n",
    "\n",
    "You can also describe a `selected column` that is a categorical field. In the dataset provided, the type of vehicles is a categorical field. Use df['type'].describe() to get details about type."
   ]
  },
  {
   "cell_type": "code",
   "execution_count": 5,
   "metadata": {},
   "outputs": [
    {
     "data": {
      "text/plain": [
       "count             260\n",
       "unique             23\n",
       "top       Motorcycles\n",
       "freq               24\n",
       "Name: type, dtype: object"
      ]
     },
     "execution_count": 5,
     "metadata": {},
     "output_type": "execute_result"
    }
   ],
   "source": [
    "df['type'].describe()"
   ]
  },
  {
   "cell_type": "markdown",
   "metadata": {},
   "source": [
    "#### Unique values\n",
    "\n",
    "To get all unique values in a dataframe, use SERIES.unique(). \n",
    "\n",
    "Reminder: A column extracted from a dataframe is called a series. Practice getting all unique vehicle types."
   ]
  },
  {
   "cell_type": "code",
   "execution_count": 7,
   "metadata": {},
   "outputs": [
    {
     "data": {
      "text/plain": [
       "array(['Private cars', 'Company cars', 'Tuition cars', 'Rental cars',\n",
       "       'Off peak cars', 'Taxis', 'Motorcycles',\n",
       "       'Goods-cum-passenger vehicles (GPVs)',\n",
       "       'Light Goods Vehicles (LGVs)', 'Heavy Goods Vehicles (HGVs)',\n",
       "       'Very Heavy Goods Vehicles (VHGVs)', 'Omnibuses',\n",
       "       'School buses (CB)', 'Private buses', 'Private hire buses',\n",
       "       'Excursion buses', 'Cars & Station-wagons', 'Buses',\n",
       "       'Goods & Other Vehicles', 'Motorcycles and Scooters',\n",
       "       'Cars and Station-wagons', 'Motorcycles and scooters',\n",
       "       'Goods and Other Vehicles'], dtype=object)"
      ]
     },
     "execution_count": 7,
     "metadata": {},
     "output_type": "execute_result"
    }
   ],
   "source": [
    "df['type'].unique()"
   ]
  },
  {
   "cell_type": "markdown",
   "metadata": {},
   "source": [
    "#### Additional unique functions\n",
    "\n",
    "Find the number of unique values with .nunique()\n",
    "\n",
    "This can also be done with the .len() function by measuring the length of the array obtained from .unique() above."
   ]
  },
  {
   "cell_type": "code",
   "execution_count": 9,
   "metadata": {},
   "outputs": [
    {
     "name": "stdout",
     "output_type": "stream",
     "text": [
      "23\n",
      "-----------------\n",
      "23\n"
     ]
    }
   ],
   "source": [
    "print(df['type'].nunique())\n",
    "\n",
    "print ('-----------------')\n",
    "\n",
    "print(len(df['type'].unique()))"
   ]
  },
  {
   "cell_type": "markdown",
   "metadata": {},
   "source": [
    "##### .value_counts() provides a count of each unique item in the series"
   ]
  },
  {
   "cell_type": "code",
   "execution_count": 11,
   "metadata": {},
   "outputs": [
    {
     "data": {
      "text/plain": [
       "Motorcycles                            24\n",
       "Taxis                                  13\n",
       "Tuition cars                           13\n",
       "School buses (CB)                      13\n",
       "Rental cars                            13\n",
       "Very Heavy Goods Vehicles (VHGVs)      13\n",
       "Omnibuses                              13\n",
       "Off peak cars                          13\n",
       "Excursion buses                        13\n",
       "Buses                                  13\n",
       "Private buses                          13\n",
       "Goods-cum-passenger vehicles (GPVs)    13\n",
       "Company cars                           13\n",
       "Private cars                           13\n",
       "Light Goods Vehicles (LGVs)            13\n",
       "Private hire buses                     13\n",
       "Heavy Goods Vehicles (HGVs)            13\n",
       "Goods & Other Vehicles                 12\n",
       "Cars & Station-wagons                  12\n",
       "Cars and Station-wagons                 1\n",
       "Motorcycles and scooters                1\n",
       "Motorcycles and Scooters                1\n",
       "Goods and Other Vehicles                1\n",
       "Name: type, dtype: int64"
      ]
     },
     "execution_count": 11,
     "metadata": {},
     "output_type": "execute_result"
    }
   ],
   "source": [
    "df['type'].value_counts()"
   ]
  },
  {
   "cell_type": "markdown",
   "metadata": {},
   "source": [
    "\n",
    "### Dataframe aggregation\n",
    "\n",
    "### groupby()\n",
    "\n",
    "By using `groupby()`, you will get a `DataframeGroupBy` object.\n",
    "The `DataframeGroupBy` object is used for obtaining a unique column. You can aggregate the data afterwards with other functions such as count() or sum() etc.\n",
    "\n",
    "First, create a groupby object for 'category' from the overall df."
   ]
  },
  {
   "cell_type": "code",
   "execution_count": 25,
   "metadata": {
    "scrolled": true
   },
   "outputs": [
    {
     "data": {
      "text/plain": [
       "<pandas.core.groupby.generic.DataFrameGroupBy object at 0x0000020C15766BA8>"
      ]
     },
     "execution_count": 25,
     "metadata": {},
     "output_type": "execute_result"
    }
   ],
   "source": [
    "df_groupby = df.groupby('category')\n",
    "df_groupby"
   ]
  },
  {
   "cell_type": "markdown",
   "metadata": {},
   "source": [
    "#### Utilizing functions with groupby()\n",
    "\n",
    "Use the functions `count()` and `size()` and examine the results.\n",
    "\n",
    "- `count()` provides a count of the number of the other columns filled.\n",
    "- `size()` is used to find the number of pokemon belonging to each `category` in our case."
   ]
  },
  {
   "cell_type": "code",
   "execution_count": 28,
   "metadata": {},
   "outputs": [
    {
     "data": {
      "text/html": [
       "<div>\n",
       "<style scoped>\n",
       "    .dataframe tbody tr th:only-of-type {\n",
       "        vertical-align: middle;\n",
       "    }\n",
       "\n",
       "    .dataframe tbody tr th {\n",
       "        vertical-align: top;\n",
       "    }\n",
       "\n",
       "    .dataframe thead th {\n",
       "        text-align: right;\n",
       "    }\n",
       "</style>\n",
       "<table border=\"1\" class=\"dataframe\">\n",
       "  <thead>\n",
       "    <tr style=\"text-align: right;\">\n",
       "      <th></th>\n",
       "      <th>year</th>\n",
       "      <th>type</th>\n",
       "      <th>number</th>\n",
       "    </tr>\n",
       "    <tr>\n",
       "      <th>category</th>\n",
       "      <th></th>\n",
       "      <th></th>\n",
       "      <th></th>\n",
       "    </tr>\n",
       "  </thead>\n",
       "  <tbody>\n",
       "    <tr>\n",
       "      <th>Buses</th>\n",
       "      <td>65</td>\n",
       "      <td>65</td>\n",
       "      <td>65</td>\n",
       "    </tr>\n",
       "    <tr>\n",
       "      <th>Cars &amp; Station-wagons</th>\n",
       "      <td>60</td>\n",
       "      <td>60</td>\n",
       "      <td>60</td>\n",
       "    </tr>\n",
       "    <tr>\n",
       "      <th>Cars and Station-wagons</th>\n",
       "      <td>5</td>\n",
       "      <td>5</td>\n",
       "      <td>5</td>\n",
       "    </tr>\n",
       "    <tr>\n",
       "      <th>Goods &amp; Other Vehicles</th>\n",
       "      <td>48</td>\n",
       "      <td>48</td>\n",
       "      <td>48</td>\n",
       "    </tr>\n",
       "    <tr>\n",
       "      <th>Goods and Other Vehicles</th>\n",
       "      <td>4</td>\n",
       "      <td>4</td>\n",
       "      <td>4</td>\n",
       "    </tr>\n",
       "    <tr>\n",
       "      <th>Motorcycles</th>\n",
       "      <td>12</td>\n",
       "      <td>12</td>\n",
       "      <td>12</td>\n",
       "    </tr>\n",
       "    <tr>\n",
       "      <th>Motorcycles and Scooters</th>\n",
       "      <td>1</td>\n",
       "      <td>1</td>\n",
       "      <td>1</td>\n",
       "    </tr>\n",
       "    <tr>\n",
       "      <th>Tax Exempted Vehicles</th>\n",
       "      <td>52</td>\n",
       "      <td>52</td>\n",
       "      <td>52</td>\n",
       "    </tr>\n",
       "    <tr>\n",
       "      <th>Taxis</th>\n",
       "      <td>13</td>\n",
       "      <td>13</td>\n",
       "      <td>13</td>\n",
       "    </tr>\n",
       "  </tbody>\n",
       "</table>\n",
       "</div>"
      ],
      "text/plain": [
       "                          year  type  number\n",
       "category                                    \n",
       "Buses                       65    65      65\n",
       "Cars & Station-wagons       60    60      60\n",
       "Cars and Station-wagons      5     5       5\n",
       "Goods & Other Vehicles      48    48      48\n",
       "Goods and Other Vehicles     4     4       4\n",
       "Motorcycles                 12    12      12\n",
       "Motorcycles and Scooters     1     1       1\n",
       "Tax Exempted Vehicles       52    52      52\n",
       "Taxis                       13    13      13"
      ]
     },
     "execution_count": 28,
     "metadata": {},
     "output_type": "execute_result"
    }
   ],
   "source": [
    "df_groupby.count()\n",
    "# df_groupby.size()"
   ]
  },
  {
   "cell_type": "markdown",
   "metadata": {},
   "source": [
    "Use the function `max()` and `min()`\n",
    "\n",
    "##### Obtain the highest number of each of the vehicle categories over the years.\n",
    "\n",
    "First, create a copy of the df to only include category and number.\n",
    "\n",
    "Then, create a groupby object with 'category', since we want the vehicle category. \n",
    "\n",
    "Afterwards, use the `max()` function to obtain the highest number. Use the `min()` function to obtain the lowest number."
   ]
  },
  {
   "cell_type": "code",
   "execution_count": 44,
   "metadata": {},
   "outputs": [
    {
     "data": {
      "text/html": [
       "<div>\n",
       "<style scoped>\n",
       "    .dataframe tbody tr th:only-of-type {\n",
       "        vertical-align: middle;\n",
       "    }\n",
       "\n",
       "    .dataframe tbody tr th {\n",
       "        vertical-align: top;\n",
       "    }\n",
       "\n",
       "    .dataframe thead th {\n",
       "        text-align: right;\n",
       "    }\n",
       "</style>\n",
       "<table border=\"1\" class=\"dataframe\">\n",
       "  <thead>\n",
       "    <tr style=\"text-align: right;\">\n",
       "      <th></th>\n",
       "      <th>number</th>\n",
       "    </tr>\n",
       "    <tr>\n",
       "      <th>category</th>\n",
       "      <th></th>\n",
       "    </tr>\n",
       "  </thead>\n",
       "  <tbody>\n",
       "    <tr>\n",
       "      <th>Buses</th>\n",
       "      <td>7517</td>\n",
       "    </tr>\n",
       "    <tr>\n",
       "      <th>Cars &amp; Station-wagons</th>\n",
       "      <td>540063</td>\n",
       "    </tr>\n",
       "    <tr>\n",
       "      <th>Cars and Station-wagons</th>\n",
       "      <td>502187</td>\n",
       "    </tr>\n",
       "    <tr>\n",
       "      <th>Goods &amp; Other Vehicles</th>\n",
       "      <td>95750</td>\n",
       "    </tr>\n",
       "    <tr>\n",
       "      <th>Goods and Other Vehicles</th>\n",
       "      <td>94724</td>\n",
       "    </tr>\n",
       "    <tr>\n",
       "      <th>Motorcycles</th>\n",
       "      <td>147282</td>\n",
       "    </tr>\n",
       "    <tr>\n",
       "      <th>Motorcycles and Scooters</th>\n",
       "      <td>141304</td>\n",
       "    </tr>\n",
       "    <tr>\n",
       "      <th>Tax Exempted Vehicles</th>\n",
       "      <td>19855</td>\n",
       "    </tr>\n",
       "    <tr>\n",
       "      <th>Taxis</th>\n",
       "      <td>28736</td>\n",
       "    </tr>\n",
       "  </tbody>\n",
       "</table>\n",
       "</div>"
      ],
      "text/plain": [
       "                          number\n",
       "category                        \n",
       "Buses                       7517\n",
       "Cars & Station-wagons     540063\n",
       "Cars and Station-wagons   502187\n",
       "Goods & Other Vehicles     95750\n",
       "Goods and Other Vehicles   94724\n",
       "Motorcycles               147282\n",
       "Motorcycles and Scooters  141304\n",
       "Tax Exempted Vehicles      19855\n",
       "Taxis                      28736"
      ]
     },
     "execution_count": 44,
     "metadata": {},
     "output_type": "execute_result"
    }
   ],
   "source": [
    "df_veh = df.copy()\n",
    "df_veh = df_veh[['category','number']]\n",
    "\n",
    "df_veh_groupby = df_veh.groupby('category')\n",
    "df_veh_groupby.max()\n",
    "# df_veh_groupby.min()"
   ]
  },
  {
   "cell_type": "markdown",
   "metadata": {},
   "source": [
    "\n",
    "\n",
    "#### Obtaining the basic analytical details\n",
    "\n",
    "##### First, create a dataframe with type == Motorcycles"
   ]
  },
  {
   "cell_type": "code",
   "execution_count": 13,
   "metadata": {},
   "outputs": [
    {
     "data": {
      "text/html": [
       "<div>\n",
       "<style scoped>\n",
       "    .dataframe tbody tr th:only-of-type {\n",
       "        vertical-align: middle;\n",
       "    }\n",
       "\n",
       "    .dataframe tbody tr th {\n",
       "        vertical-align: top;\n",
       "    }\n",
       "\n",
       "    .dataframe thead th {\n",
       "        text-align: right;\n",
       "    }\n",
       "</style>\n",
       "<table border=\"1\" class=\"dataframe\">\n",
       "  <thead>\n",
       "    <tr style=\"text-align: right;\">\n",
       "      <th></th>\n",
       "      <th>year</th>\n",
       "      <th>category</th>\n",
       "      <th>type</th>\n",
       "      <th>number</th>\n",
       "    </tr>\n",
       "  </thead>\n",
       "  <tbody>\n",
       "    <tr>\n",
       "      <th>60</th>\n",
       "      <td>2005</td>\n",
       "      <td>Motorcycles</td>\n",
       "      <td>Motorcycles</td>\n",
       "      <td>138588</td>\n",
       "    </tr>\n",
       "    <tr>\n",
       "      <th>61</th>\n",
       "      <td>2006</td>\n",
       "      <td>Motorcycles</td>\n",
       "      <td>Motorcycles</td>\n",
       "      <td>141881</td>\n",
       "    </tr>\n",
       "    <tr>\n",
       "      <th>62</th>\n",
       "      <td>2007</td>\n",
       "      <td>Motorcycles</td>\n",
       "      <td>Motorcycles</td>\n",
       "      <td>143482</td>\n",
       "    </tr>\n",
       "    <tr>\n",
       "      <th>63</th>\n",
       "      <td>2008</td>\n",
       "      <td>Motorcycles</td>\n",
       "      <td>Motorcycles</td>\n",
       "      <td>145288</td>\n",
       "    </tr>\n",
       "    <tr>\n",
       "      <th>64</th>\n",
       "      <td>2009</td>\n",
       "      <td>Motorcycles</td>\n",
       "      <td>Motorcycles</td>\n",
       "      <td>146337</td>\n",
       "    </tr>\n",
       "    <tr>\n",
       "      <th>65</th>\n",
       "      <td>2010</td>\n",
       "      <td>Motorcycles</td>\n",
       "      <td>Motorcycles</td>\n",
       "      <td>147282</td>\n",
       "    </tr>\n",
       "    <tr>\n",
       "      <th>66</th>\n",
       "      <td>2011</td>\n",
       "      <td>Motorcycles</td>\n",
       "      <td>Motorcycles</td>\n",
       "      <td>145680</td>\n",
       "    </tr>\n",
       "    <tr>\n",
       "      <th>67</th>\n",
       "      <td>2012</td>\n",
       "      <td>Motorcycles</td>\n",
       "      <td>Motorcycles</td>\n",
       "      <td>143286</td>\n",
       "    </tr>\n",
       "    <tr>\n",
       "      <th>68</th>\n",
       "      <td>2013</td>\n",
       "      <td>Motorcycles</td>\n",
       "      <td>Motorcycles</td>\n",
       "      <td>144307</td>\n",
       "    </tr>\n",
       "    <tr>\n",
       "      <th>69</th>\n",
       "      <td>2014</td>\n",
       "      <td>Motorcycles</td>\n",
       "      <td>Motorcycles</td>\n",
       "      <td>144404</td>\n",
       "    </tr>\n",
       "    <tr>\n",
       "      <th>170</th>\n",
       "      <td>2005</td>\n",
       "      <td>Tax Exempted Vehicles</td>\n",
       "      <td>Motorcycles</td>\n",
       "      <td>846</td>\n",
       "    </tr>\n",
       "    <tr>\n",
       "      <th>171</th>\n",
       "      <td>2006</td>\n",
       "      <td>Tax Exempted Vehicles</td>\n",
       "      <td>Motorcycles</td>\n",
       "      <td>855</td>\n",
       "    </tr>\n",
       "    <tr>\n",
       "      <th>172</th>\n",
       "      <td>2007</td>\n",
       "      <td>Tax Exempted Vehicles</td>\n",
       "      <td>Motorcycles</td>\n",
       "      <td>858</td>\n",
       "    </tr>\n",
       "    <tr>\n",
       "      <th>173</th>\n",
       "      <td>2008</td>\n",
       "      <td>Tax Exempted Vehicles</td>\n",
       "      <td>Motorcycles</td>\n",
       "      <td>832</td>\n",
       "    </tr>\n",
       "    <tr>\n",
       "      <th>174</th>\n",
       "      <td>2009</td>\n",
       "      <td>Tax Exempted Vehicles</td>\n",
       "      <td>Motorcycles</td>\n",
       "      <td>878</td>\n",
       "    </tr>\n",
       "    <tr>\n",
       "      <th>175</th>\n",
       "      <td>2010</td>\n",
       "      <td>Tax Exempted Vehicles</td>\n",
       "      <td>Motorcycles</td>\n",
       "      <td>878</td>\n",
       "    </tr>\n",
       "    <tr>\n",
       "      <th>176</th>\n",
       "      <td>2011</td>\n",
       "      <td>Tax Exempted Vehicles</td>\n",
       "      <td>Motorcycles</td>\n",
       "      <td>879</td>\n",
       "    </tr>\n",
       "    <tr>\n",
       "      <th>177</th>\n",
       "      <td>2012</td>\n",
       "      <td>Tax Exempted Vehicles</td>\n",
       "      <td>Motorcycles</td>\n",
       "      <td>824</td>\n",
       "    </tr>\n",
       "    <tr>\n",
       "      <th>178</th>\n",
       "      <td>2013</td>\n",
       "      <td>Tax Exempted Vehicles</td>\n",
       "      <td>Motorcycles</td>\n",
       "      <td>627</td>\n",
       "    </tr>\n",
       "    <tr>\n",
       "      <th>179</th>\n",
       "      <td>2014</td>\n",
       "      <td>Tax Exempted Vehicles</td>\n",
       "      <td>Motorcycles</td>\n",
       "      <td>622</td>\n",
       "    </tr>\n",
       "    <tr>\n",
       "      <th>206</th>\n",
       "      <td>2015</td>\n",
       "      <td>Motorcycles</td>\n",
       "      <td>Motorcycles</td>\n",
       "      <td>143279</td>\n",
       "    </tr>\n",
       "    <tr>\n",
       "      <th>217</th>\n",
       "      <td>2015</td>\n",
       "      <td>Tax Exempted Vehicles</td>\n",
       "      <td>Motorcycles</td>\n",
       "      <td>621</td>\n",
       "    </tr>\n",
       "    <tr>\n",
       "      <th>226</th>\n",
       "      <td>2016</td>\n",
       "      <td>Motorcycles</td>\n",
       "      <td>Motorcycles</td>\n",
       "      <td>142439</td>\n",
       "    </tr>\n",
       "    <tr>\n",
       "      <th>237</th>\n",
       "      <td>2016</td>\n",
       "      <td>Tax Exempted Vehicles</td>\n",
       "      <td>Motorcycles</td>\n",
       "      <td>613</td>\n",
       "    </tr>\n",
       "  </tbody>\n",
       "</table>\n",
       "</div>"
      ],
      "text/plain": [
       "     year               category         type  number\n",
       "60   2005            Motorcycles  Motorcycles  138588\n",
       "61   2006            Motorcycles  Motorcycles  141881\n",
       "62   2007            Motorcycles  Motorcycles  143482\n",
       "63   2008            Motorcycles  Motorcycles  145288\n",
       "64   2009            Motorcycles  Motorcycles  146337\n",
       "65   2010            Motorcycles  Motorcycles  147282\n",
       "66   2011            Motorcycles  Motorcycles  145680\n",
       "67   2012            Motorcycles  Motorcycles  143286\n",
       "68   2013            Motorcycles  Motorcycles  144307\n",
       "69   2014            Motorcycles  Motorcycles  144404\n",
       "170  2005  Tax Exempted Vehicles  Motorcycles     846\n",
       "171  2006  Tax Exempted Vehicles  Motorcycles     855\n",
       "172  2007  Tax Exempted Vehicles  Motorcycles     858\n",
       "173  2008  Tax Exempted Vehicles  Motorcycles     832\n",
       "174  2009  Tax Exempted Vehicles  Motorcycles     878\n",
       "175  2010  Tax Exempted Vehicles  Motorcycles     878\n",
       "176  2011  Tax Exempted Vehicles  Motorcycles     879\n",
       "177  2012  Tax Exempted Vehicles  Motorcycles     824\n",
       "178  2013  Tax Exempted Vehicles  Motorcycles     627\n",
       "179  2014  Tax Exempted Vehicles  Motorcycles     622\n",
       "206  2015            Motorcycles  Motorcycles  143279\n",
       "217  2015  Tax Exempted Vehicles  Motorcycles     621\n",
       "226  2016            Motorcycles  Motorcycles  142439\n",
       "237  2016  Tax Exempted Vehicles  Motorcycles     613"
      ]
     },
     "execution_count": 13,
     "metadata": {},
     "output_type": "execute_result"
    }
   ],
   "source": [
    "df2 = df.copy()\n",
    "condition = df2['type']=='Motorcycles'\n",
    "df2 = df2[condition]\n",
    "df2"
   ]
  },
  {
   "cell_type": "markdown",
   "metadata": {},
   "source": [
    "### Sum, min, max.\n",
    "\n",
    "The .sum(), .min(), .max() functions. Self explanatory.\n",
    "\n",
    "The .count() function counts the number of records inside a series.\n",
    "\n",
    "Practice on the `number` of motorcycles in the newly created dataframe."
   ]
  },
  {
   "cell_type": "code",
   "execution_count": 15,
   "metadata": {},
   "outputs": [
    {
     "name": "stdout",
     "output_type": "stream",
     "text": [
      "1735586\n",
      "----------\n",
      "613\n",
      "----------\n",
      "147282\n",
      "----------\n",
      "24\n"
     ]
    }
   ],
   "source": [
    "print(df2['number'].sum())\n",
    "print('----------')\n",
    "print(df2['number'].min())\n",
    "print('----------')\n",
    "print(df2['number'].max())\n",
    "print('----------')\n",
    "print(df2['number'].count())"
   ]
  },
  {
   "cell_type": "markdown",
   "metadata": {},
   "source": [
    "### Mean, median, mode.\n",
    "\n",
    "The .mean(), .median(), .mode() functions. Self explanatory.\n",
    "\n",
    "Practice on the `number` of motorcycles in the newly created dataframe."
   ]
  },
  {
   "cell_type": "code",
   "execution_count": 16,
   "metadata": {},
   "outputs": [
    {
     "name": "stdout",
     "output_type": "stream",
     "text": [
      "72316.08333333333\n",
      "----------\n",
      "69733.5\n",
      "----------\n",
      "0    878\n",
      "dtype: int64\n"
     ]
    }
   ],
   "source": [
    "print(df2['number'].mean())\n",
    "print('----------')\n",
    "print(df2['number'].median())\n",
    "print('----------')\n",
    "print(df2['number'].mode())"
   ]
  },
  {
   "cell_type": "markdown",
   "metadata": {},
   "source": [
    "### Variance, Standard Deviation\n",
    "\n",
    "The .var(), .std() functions. Self explanatory"
   ]
  },
  {
   "cell_type": "code",
   "execution_count": 17,
   "metadata": {},
   "outputs": [
    {
     "name": "stdout",
     "output_type": "stream",
     "text": [
      "5342781679.036232\n",
      "----------\n",
      "73094.33411035518\n"
     ]
    }
   ],
   "source": [
    "print(df2['number'].var())\n",
    "print('----------')\n",
    "print(df2['number'].std())"
   ]
  },
  {
   "cell_type": "markdown",
   "metadata": {},
   "source": [
    "### Skewness\n",
    "\n",
    "The results highlights whether the dataset is left-tailed or right-tailed. If the dataset is left-tailed, then more datapoints are higher than the mean. If the dataset is right-tailed, more datapoints are lower than the mean.\n",
    "\n",
    "Interpret the skewness as follows:\n",
    "\n",
    "- If the skewness is  0  then the observations are symmetrical.\n",
    "- If the skewness is positive  (>0)  then the dataset is skewed right (right-tailed).\n",
    "- If the skewness is negative  (<0) then the dataset is left-skewed (left-tailed).\n",
    "\n",
    "Use .skew() to find the skewness."
   ]
  },
  {
   "cell_type": "code",
   "execution_count": 18,
   "metadata": {},
   "outputs": [
    {
     "name": "stdout",
     "output_type": "stream",
     "text": [
      "0.001502728107427262\n"
     ]
    }
   ],
   "source": [
    "print(df2['number'].skew())"
   ]
  },
  {
   "cell_type": "markdown",
   "metadata": {},
   "source": [
    "### Kurtosis\n",
    "\n",
    "This will mean how heavy the tails are, compared to a normal distribution.\n",
    "\n",
    "Compared to a (fitted) normal distribution, if the observations have excessively `fat` tails, the kurtosis is positive. The kurtosis of a normal distribution is  0. If the observations a very light tail, then the kurtosis is negative.\n",
    "\n",
    "Use .kurt() to find the kurtosis score."
   ]
  },
  {
   "cell_type": "code",
   "execution_count": 19,
   "metadata": {},
   "outputs": [
    {
     "name": "stdout",
     "output_type": "stream",
     "text": [
      "-2.1881625484817704\n"
     ]
    }
   ],
   "source": [
    "print(df2['number'].kurt())"
   ]
  },
  {
   "cell_type": "markdown",
   "metadata": {},
   "source": [
    "### Another dataset\n",
    "\n",
    "Practice getting the mean, median, skewness on this dataset. \n",
    "`graduate-employment-survey.csv`"
   ]
  },
  {
   "cell_type": "code",
   "execution_count": 11,
   "metadata": {},
   "outputs": [
    {
     "name": "stdout",
     "output_type": "stream",
     "text": [
      "              year  gross_monthly_median\n",
      "count   513.000000            513.000000\n",
      "mean   2015.159844           3347.832359\n",
      "std       1.374213            500.829744\n",
      "min    2013.000000           2225.000000\n",
      "25%    2014.000000           3005.000000\n",
      "50%    2015.000000           3295.000000\n",
      "75%    2016.000000           3500.000000\n",
      "max    2017.000000           5800.000000\n",
      "---------------\n",
      "1.6795741836698306\n"
     ]
    }
   ],
   "source": [
    "df_new = pd.read_csv('graduate-employment-survey.csv')\n",
    "print(df_new.describe())\n",
    "print('---------------')\n",
    "print(df_new['gross_monthly_median'].skew())"
   ]
  }
 ],
 "metadata": {
  "kernelspec": {
   "display_name": "Python 3",
   "language": "python",
   "name": "python3"
  },
  "language_info": {
   "codemirror_mode": {
    "name": "ipython",
    "version": 3
   },
   "file_extension": ".py",
   "mimetype": "text/x-python",
   "name": "python",
   "nbconvert_exporter": "python",
   "pygments_lexer": "ipython3",
   "version": "3.7.3"
  }
 },
 "nbformat": 4,
 "nbformat_minor": 2
}
