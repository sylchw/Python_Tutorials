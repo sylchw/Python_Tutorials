{
 "cells": [
  {
   "cell_type": "markdown",
   "metadata": {},
   "source": [
    "### Pandas Tutorial\n",
    "\n",
    "#### What is pandas?\n",
    "Pandas is a software library written for the Python programming language for data manipulation and analysis. In particular, it offers data structures and operations for manipulating numerical tables and time series.\n",
    "\n",
    "Most data will be processed with the help of `DataFrames`.\n",
    "\n",
    "List of milestones:\n",
    "\n",
    "- Key properties of a `Dataframe`\n",
    "- Read CSV into `Dataframe`\n",
    "- Read Database into `Dataframe`\n",
    "\n",
    "#### Datasets Required\n",
    "1.annual-motor-vehicle-population-by-vehicle-type.csv\n",
    "\n",
    "All datasets are downloaded from data.gov.sg"
   ]
  },
  {
   "cell_type": "markdown",
   "metadata": {},
   "source": [
    "#### Step 1. Imports"
   ]
  },
  {
   "cell_type": "code",
   "execution_count": 38,
   "metadata": {},
   "outputs": [],
   "source": [
    "#Import pandas\n",
    "\n",
    "import pandas as pd\n"
   ]
  },
  {
   "cell_type": "markdown",
   "metadata": {},
   "source": [
    "### Instantiating a Dataframe\n",
    "\n",
    "You can create a dataframe data from a CSV file.\n",
    "\n",
    "### For this tutorial, the dataframe used will be from this CSV file.\n",
    "\n",
    "Use pd.read_csv() to read CSV data into a Dataframe.\n",
    "csv file name = 'annual-motor-vehicle-population-by-vehicle-type.csv'\n",
    "\n",
    "Documentation can be seen [here](https://pandas.pydata.org/pandas-docs/stable/generated/pandas.read_csv.html#pandas.read_csv).\n",
    "\n",
    "CSV Source can be accessed [here](https://data.gov.sg/dataset/annual-motor-vehicle-population-by-vehicle-type?view_id=6aca1157-ea79-4e39-9e58-3e5313a9a715&resource_id=dec53407-9f97-47b8-ba89-b2070569a09e)"
   ]
  },
  {
   "cell_type": "code",
   "execution_count": 39,
   "metadata": {},
   "outputs": [],
   "source": [
    "#To read from CSV file\n",
    "\n",
    "dataframe = pd.read_csv('annual-motor-vehicle-population-by-vehicle-type.csv')\n"
   ]
  },
  {
   "cell_type": "markdown",
   "metadata": {},
   "source": [
    "### Do note that it is also possible to create a dataframe from a database.\n",
    "\n",
    "##### The example shown here is to create a dataframe from MSSQL.\n",
    "The code will not run here since there is no separate config file."
   ]
  },
  {
   "cell_type": "code",
   "execution_count": 57,
   "metadata": {},
   "outputs": [],
   "source": [
    "#To read from Database\n",
    "#Code does not run here. For future reference\n",
    "\n",
    "#Example to query SQL\n",
    "#######IN SEPARATE YAML FILE############\n",
    "#SQL_CONFIG:\n",
    "#  server_name: FSWSQL165\\FSMSSPROD165\n",
    "#  user_name: mssqlf10n\n",
    "#  password_field: TWljcm9uMTIz\n",
    "#  database_name: F10DS_SOLUTION\n",
    "#  port_field: 1433\n",
    "#  table_name: dbo.Test_Kaiqin\n",
    "\n",
    "import pymssql\n",
    "\n",
    "sql_config = config.get('SQL_CONFIG')\n",
    "\n",
    "    server_name = sql_config.get('server_name')\n",
    "    user_name = sql_config.get('user_name')\n",
    "    password_field = base64.b64decode(sql_config['password_field']).decode('utf-8')\n",
    "    database_name = sql_config.get('database_name')\n",
    "    port_field = sql_config.get('port_field')\n",
    "\n",
    "    try:\n",
    "        conn = pymssql.connect(server=server_name, user=user_name, password=password_field,\n",
    "                               database=database_name, port=port_field)\n",
    "    except Exception:\n",
    "        raise ValueError(\"MSSQL Connection Failed\")\n",
    "\n",
    "SQL_Query = pd.read_sql_query(\n",
    "'''select\n",
    "* from dbo.Test_Kaiqin''', conn)\n",
    "\n",
    "dataframe = pd.DataFrame(SQL_Query, columns=['Column_name_1','Column_name_2','Column_name_3','Column_name_4'])\n",
    "print (dataframe)"
   ]
  },
  {
   "cell_type": "markdown",
   "metadata": {},
   "source": [
    "The commands below prints out the <b>basic details</b> of the dataframe.\n",
    "\n",
    "- dataframe.dtypes (Column types)\n",
    "- dataframe.columns (available columns)\n",
    "- dataframe.shape (number of rows and columns)\n"
   ]
  },
  {
   "cell_type": "code",
   "execution_count": 41,
   "metadata": {},
   "outputs": [
    {
     "name": "stdout",
     "output_type": "stream",
     "text": [
      "year         int64\n",
      "category    object\n",
      "type        object\n",
      "number       int64\n",
      "dtype: object\n",
      "-----------------\n",
      "Index(['year', 'category', 'type', 'number'], dtype='object')\n",
      "-----------------\n",
      "(260, 4)\n"
     ]
    }
   ],
   "source": [
    "#to check column types\n",
    "print(dataframe.dtypes)\n",
    "\n",
    "print('-----------------')\n",
    "\n",
    "#to check columns with columns\n",
    "print(dataframe.columns)\n",
    "\n",
    "print('-----------------')\n",
    "\n",
    "#to check number of rows and columns\n",
    "print(dataframe.shape)\n",
    "\n"
   ]
  },
  {
   "cell_type": "markdown",
   "metadata": {},
   "source": [
    "The commands below prints out <b>data inside</b> the dataframe.\n",
    "\n",
    "- dataframe.head() (Prints out the first 5 data by default)\n",
    "\n",
    "Try dataframe.head(*integer*)\n",
    "\n",
    "- dataframe.sample() (Prints out a random sampled row in the dataframe)"
   ]
  },
  {
   "cell_type": "code",
   "execution_count": 42,
   "metadata": {},
   "outputs": [
    {
     "data": {
      "text/html": [
       "<div>\n",
       "<style scoped>\n",
       "    .dataframe tbody tr th:only-of-type {\n",
       "        vertical-align: middle;\n",
       "    }\n",
       "\n",
       "    .dataframe tbody tr th {\n",
       "        vertical-align: top;\n",
       "    }\n",
       "\n",
       "    .dataframe thead th {\n",
       "        text-align: right;\n",
       "    }\n",
       "</style>\n",
       "<table border=\"1\" class=\"dataframe\">\n",
       "  <thead>\n",
       "    <tr style=\"text-align: right;\">\n",
       "      <th></th>\n",
       "      <th>year</th>\n",
       "      <th>category</th>\n",
       "      <th>type</th>\n",
       "      <th>number</th>\n",
       "    </tr>\n",
       "  </thead>\n",
       "  <tbody>\n",
       "    <tr>\n",
       "      <th>0</th>\n",
       "      <td>2005</td>\n",
       "      <td>Cars &amp; Station-wagons</td>\n",
       "      <td>Private cars</td>\n",
       "      <td>401638</td>\n",
       "    </tr>\n",
       "    <tr>\n",
       "      <th>1</th>\n",
       "      <td>2006</td>\n",
       "      <td>Cars &amp; Station-wagons</td>\n",
       "      <td>Private cars</td>\n",
       "      <td>421904</td>\n",
       "    </tr>\n",
       "    <tr>\n",
       "      <th>2</th>\n",
       "      <td>2007</td>\n",
       "      <td>Cars &amp; Station-wagons</td>\n",
       "      <td>Private cars</td>\n",
       "      <td>451745</td>\n",
       "    </tr>\n",
       "    <tr>\n",
       "      <th>3</th>\n",
       "      <td>2008</td>\n",
       "      <td>Cars &amp; Station-wagons</td>\n",
       "      <td>Private cars</td>\n",
       "      <td>476634</td>\n",
       "    </tr>\n",
       "    <tr>\n",
       "      <th>4</th>\n",
       "      <td>2009</td>\n",
       "      <td>Cars &amp; Station-wagons</td>\n",
       "      <td>Private cars</td>\n",
       "      <td>497116</td>\n",
       "    </tr>\n",
       "  </tbody>\n",
       "</table>\n",
       "</div>"
      ],
      "text/plain": [
       "   year               category          type  number\n",
       "0  2005  Cars & Station-wagons  Private cars  401638\n",
       "1  2006  Cars & Station-wagons  Private cars  421904\n",
       "2  2007  Cars & Station-wagons  Private cars  451745\n",
       "3  2008  Cars & Station-wagons  Private cars  476634\n",
       "4  2009  Cars & Station-wagons  Private cars  497116"
      ]
     },
     "execution_count": 42,
     "metadata": {},
     "output_type": "execute_result"
    }
   ],
   "source": [
    "#try .head()\n",
    "\n",
    "dataframe.head()"
   ]
  },
  {
   "cell_type": "code",
   "execution_count": 43,
   "metadata": {},
   "outputs": [
    {
     "data": {
      "text/html": [
       "<div>\n",
       "<style scoped>\n",
       "    .dataframe tbody tr th:only-of-type {\n",
       "        vertical-align: middle;\n",
       "    }\n",
       "\n",
       "    .dataframe tbody tr th {\n",
       "        vertical-align: top;\n",
       "    }\n",
       "\n",
       "    .dataframe thead th {\n",
       "        text-align: right;\n",
       "    }\n",
       "</style>\n",
       "<table border=\"1\" class=\"dataframe\">\n",
       "  <thead>\n",
       "    <tr style=\"text-align: right;\">\n",
       "      <th></th>\n",
       "      <th>year</th>\n",
       "      <th>category</th>\n",
       "      <th>type</th>\n",
       "      <th>number</th>\n",
       "    </tr>\n",
       "  </thead>\n",
       "  <tbody>\n",
       "    <tr>\n",
       "      <th>27</th>\n",
       "      <td>2012</td>\n",
       "      <td>Cars &amp; Station-wagons</td>\n",
       "      <td>Tuition cars</td>\n",
       "      <td>899</td>\n",
       "    </tr>\n",
       "  </tbody>\n",
       "</table>\n",
       "</div>"
      ],
      "text/plain": [
       "    year               category          type  number\n",
       "27  2012  Cars & Station-wagons  Tuition cars     899"
      ]
     },
     "execution_count": 43,
     "metadata": {},
     "output_type": "execute_result"
    }
   ],
   "source": [
    "#try .sample()\n",
    "\n",
    "dataframe.sample()"
   ]
  },
  {
   "cell_type": "markdown",
   "metadata": {},
   "source": [
    "### Retrieving data from a dataframe for data processing\n",
    "\n",
    "#### Retrieving columns:\n",
    "A column retrieved and stored as a variable is of type <b> series</b>.\n",
    "\n",
    "Extract the column with dataframe[\"Column_Name\"]"
   ]
  },
  {
   "cell_type": "code",
   "execution_count": 44,
   "metadata": {},
   "outputs": [
    {
     "data": {
      "text/plain": [
       "pandas.core.series.Series"
      ]
     },
     "execution_count": 44,
     "metadata": {},
     "output_type": "execute_result"
    }
   ],
   "source": [
    "#Extract the \"year\" column and store it into series\n",
    "\n",
    "series = dataframe[\"year\"]\n",
    "type(series)"
   ]
  },
  {
   "cell_type": "markdown",
   "metadata": {},
   "source": [
    "Similar to a dataframe, .sample() and .head() can be used to extract information"
   ]
  },
  {
   "cell_type": "code",
   "execution_count": 45,
   "metadata": {},
   "outputs": [
    {
     "name": "stdout",
     "output_type": "stream",
     "text": [
      "109    2014\n",
      "Name: year, dtype: int64\n",
      "-------------\n",
      "0    2005\n",
      "1    2006\n",
      "2    2007\n",
      "3    2008\n",
      "4    2009\n",
      "Name: year, dtype: int64\n"
     ]
    }
   ],
   "source": [
    "#Try .sample() and .head() on series\n",
    "\n",
    "print(series.sample())\n",
    "\n",
    "print (\"-------------\")\n",
    "\n",
    "print(series.head())"
   ]
  },
  {
   "cell_type": "markdown",
   "metadata": {},
   "source": [
    "##### Retrieve a specific record from the dataframe\n",
    "\n",
    "Retrieve a specific record from the dataframe with dataframe.iloc[]\n",
    ".iloc uses zero indexing"
   ]
  },
  {
   "cell_type": "code",
   "execution_count": 46,
   "metadata": {},
   "outputs": [
    {
     "name": "stdout",
     "output_type": "stream",
     "text": [
      "year                         2007\n",
      "category    Cars & Station-wagons\n",
      "type                 Private cars\n",
      "number                     451745\n",
      "Name: 2, dtype: object\n"
     ]
    }
   ],
   "source": [
    "#Get the details of row index 2. Check if it has a year 2007. Name your variable row_2\n",
    "\n",
    "row_2 = dataframe.iloc[2]\n",
    "print(row_2)"
   ]
  },
  {
   "cell_type": "markdown",
   "metadata": {},
   "source": [
    "##### Complete the following code to get the number, category and type of vehicle based on the series in index 2, selected in the previous box.\n",
    "\n",
    "Use the column indexing method to retrieve data in a specific column. Eg. row_2['Column_name']"
   ]
  },
  {
   "cell_type": "code",
   "execution_count": 47,
   "metadata": {},
   "outputs": [
    {
     "name": "stdout",
     "output_type": "stream",
     "text": [
      "In 2007, there are 451745 Private cars in Singapore\n",
      "Private cars belong to the Cars & Station-wagons category.\n"
     ]
    }
   ],
   "source": [
    "veh_num = 0\n",
    "veh_type = ''\n",
    "veh_cat = ''\n",
    "veh_year = 0\n",
    "###############\n",
    "\n",
    "veh_cat = row_2['category']\n",
    "veh_type = row_2['type']\n",
    "veh_num = row_2['number']\n",
    "veh_year = row_2['year']\n",
    "\n",
    "print('In ' + str(veh_year) + ', there are ' + str(veh_num) + ' ' + str(veh_type) + ' in Singapore')\n",
    "print(str(veh_type) + ' belong to the ' + str(veh_cat) + ' category.')"
   ]
  },
  {
   "cell_type": "markdown",
   "metadata": {},
   "source": [
    "### Filtering records\n",
    "\n",
    "#### You can perform filters to the dataframe to get a set of data that you want.\n",
    "\n",
    "Use the following code structure to do so.\n",
    "\n",
    "```python\n",
    "dataframe[dataframe['column'] <conditional operator> <value>]\n",
    "```\n",
    "\n",
    "----------------------------------\n",
    "\n",
    "Before filtering, it is `good practice` to perform a copy of the dataframe first, so modifications done while filtering do not affect the original dataframe.\n",
    "\n",
    "Do so with dataframe.copy()\n",
    "\n",
    "##### After which, identify the records whose number of vehicles are above 100_000\n",
    "\n",
    "Insert the condition by creating a condition variable:\n",
    "- condition = dataframe2['Column_name'] > Integer\n",
    "\n",
    "Apply the condition:\n",
    "- dataframe2[condition]\n",
    "\n",
    "Another method to filter will be to define the condition directly in the dataframe.\n",
    "- dataframe2[dataframe2['Column_name'] > Integer]"
   ]
  },
  {
   "cell_type": "code",
   "execution_count": 48,
   "metadata": {},
   "outputs": [
    {
     "name": "stdout",
     "output_type": "stream",
     "text": [
      "     year                  category                      type  number\n",
      "0    2005     Cars & Station-wagons              Private cars  401638\n",
      "1    2006     Cars & Station-wagons              Private cars  421904\n",
      "2    2007     Cars & Station-wagons              Private cars  451745\n",
      "3    2008     Cars & Station-wagons              Private cars  476634\n",
      "4    2009     Cars & Station-wagons              Private cars  497116\n",
      "5    2010     Cars & Station-wagons              Private cars  511125\n",
      "6    2011     Cars & Station-wagons              Private cars  520614\n",
      "7    2012     Cars & Station-wagons              Private cars  535233\n",
      "8    2013     Cars & Station-wagons              Private cars  540063\n",
      "9    2014     Cars & Station-wagons              Private cars  536882\n",
      "60   2005               Motorcycles               Motorcycles  138588\n",
      "61   2006               Motorcycles               Motorcycles  141881\n",
      "62   2007               Motorcycles               Motorcycles  143482\n",
      "63   2008               Motorcycles               Motorcycles  145288\n",
      "64   2009               Motorcycles               Motorcycles  146337\n",
      "65   2010               Motorcycles               Motorcycles  147282\n",
      "66   2011               Motorcycles               Motorcycles  145680\n",
      "67   2012               Motorcycles               Motorcycles  143286\n",
      "68   2013               Motorcycles               Motorcycles  144307\n",
      "69   2014               Motorcycles               Motorcycles  144404\n",
      "200  2015     Cars & Station-wagons              Private cars  519645\n",
      "206  2015               Motorcycles               Motorcycles  143279\n",
      "220  2016     Cars & Station-wagons              Private cars  504160\n",
      "226  2016               Motorcycles               Motorcycles  142439\n",
      "240  2017   Cars and Station-wagons              Private cars  502187\n",
      "246  2017  Motorcycles and Scooters  Motorcycles and Scooters  141304\n"
     ]
    }
   ],
   "source": [
    "#Before filtering, it is good practice to perform a copy of the dataframe first, so modifications done\n",
    "#while filtering do not affect the original dataframe.\n",
    "\n",
    "dataframe2 = dataframe.copy()\n",
    "\n",
    "condition = dataframe2['number'] > 100_000\n",
    "\n",
    "print(dataframe2[condition])\n",
    "\n",
    "#Uncomment this to view result\n",
    "# print(dataframe2[dataframe2['number'] > 100_000])"
   ]
  },
  {
   "cell_type": "markdown",
   "metadata": {},
   "source": [
    "##### Besides integers, you can use string comparators.\n",
    "\n",
    "dataframe2['type'] == 'Motorcycles and Scooters'"
   ]
  },
  {
   "cell_type": "code",
   "execution_count": 49,
   "metadata": {},
   "outputs": [
    {
     "name": "stdout",
     "output_type": "stream",
     "text": [
      "     year                  category                      type  number\n",
      "246  2017  Motorcycles and Scooters  Motorcycles and Scooters  141304\n"
     ]
    }
   ],
   "source": [
    "print(dataframe2[dataframe2['type'] == 'Motorcycles and Scooters'])"
   ]
  },
  {
   "cell_type": "markdown",
   "metadata": {},
   "source": [
    "##### To include more than 1 string or 1 integer, you can use the .isin() function. The values inside isin() should be in a List format.\n",
    "\n",
    "Example: \n",
    "- condition = dataframe2['year'].isin([2007,2008])"
   ]
  },
  {
   "cell_type": "code",
   "execution_count": 50,
   "metadata": {},
   "outputs": [
    {
     "data": {
      "text/html": [
       "<div>\n",
       "<style scoped>\n",
       "    .dataframe tbody tr th:only-of-type {\n",
       "        vertical-align: middle;\n",
       "    }\n",
       "\n",
       "    .dataframe tbody tr th {\n",
       "        vertical-align: top;\n",
       "    }\n",
       "\n",
       "    .dataframe thead th {\n",
       "        text-align: right;\n",
       "    }\n",
       "</style>\n",
       "<table border=\"1\" class=\"dataframe\">\n",
       "  <thead>\n",
       "    <tr style=\"text-align: right;\">\n",
       "      <th></th>\n",
       "      <th>year</th>\n",
       "      <th>category</th>\n",
       "      <th>type</th>\n",
       "      <th>number</th>\n",
       "    </tr>\n",
       "  </thead>\n",
       "  <tbody>\n",
       "    <tr>\n",
       "      <th>2</th>\n",
       "      <td>2007</td>\n",
       "      <td>Cars &amp; Station-wagons</td>\n",
       "      <td>Private cars</td>\n",
       "      <td>451745</td>\n",
       "    </tr>\n",
       "    <tr>\n",
       "      <th>3</th>\n",
       "      <td>2008</td>\n",
       "      <td>Cars &amp; Station-wagons</td>\n",
       "      <td>Private cars</td>\n",
       "      <td>476634</td>\n",
       "    </tr>\n",
       "    <tr>\n",
       "      <th>12</th>\n",
       "      <td>2007</td>\n",
       "      <td>Cars &amp; Station-wagons</td>\n",
       "      <td>Company cars</td>\n",
       "      <td>16954</td>\n",
       "    </tr>\n",
       "    <tr>\n",
       "      <th>13</th>\n",
       "      <td>2008</td>\n",
       "      <td>Cars &amp; Station-wagons</td>\n",
       "      <td>Company cars</td>\n",
       "      <td>18246</td>\n",
       "    </tr>\n",
       "    <tr>\n",
       "      <th>22</th>\n",
       "      <td>2007</td>\n",
       "      <td>Cars &amp; Station-wagons</td>\n",
       "      <td>Tuition cars</td>\n",
       "      <td>949</td>\n",
       "    </tr>\n",
       "    <tr>\n",
       "      <th>23</th>\n",
       "      <td>2008</td>\n",
       "      <td>Cars &amp; Station-wagons</td>\n",
       "      <td>Tuition cars</td>\n",
       "      <td>976</td>\n",
       "    </tr>\n",
       "    <tr>\n",
       "      <th>32</th>\n",
       "      <td>2007</td>\n",
       "      <td>Cars &amp; Station-wagons</td>\n",
       "      <td>Rental cars</td>\n",
       "      <td>11054</td>\n",
       "    </tr>\n",
       "    <tr>\n",
       "      <th>33</th>\n",
       "      <td>2008</td>\n",
       "      <td>Cars &amp; Station-wagons</td>\n",
       "      <td>Rental cars</td>\n",
       "      <td>12391</td>\n",
       "    </tr>\n",
       "    <tr>\n",
       "      <th>42</th>\n",
       "      <td>2007</td>\n",
       "      <td>Cars &amp; Station-wagons</td>\n",
       "      <td>Off peak cars</td>\n",
       "      <td>33983</td>\n",
       "    </tr>\n",
       "    <tr>\n",
       "      <th>43</th>\n",
       "      <td>2008</td>\n",
       "      <td>Cars &amp; Station-wagons</td>\n",
       "      <td>Off peak cars</td>\n",
       "      <td>42208</td>\n",
       "    </tr>\n",
       "    <tr>\n",
       "      <th>52</th>\n",
       "      <td>2007</td>\n",
       "      <td>Taxis</td>\n",
       "      <td>Taxis</td>\n",
       "      <td>24446</td>\n",
       "    </tr>\n",
       "    <tr>\n",
       "      <th>53</th>\n",
       "      <td>2008</td>\n",
       "      <td>Taxis</td>\n",
       "      <td>Taxis</td>\n",
       "      <td>24300</td>\n",
       "    </tr>\n",
       "    <tr>\n",
       "      <th>62</th>\n",
       "      <td>2007</td>\n",
       "      <td>Motorcycles</td>\n",
       "      <td>Motorcycles</td>\n",
       "      <td>143482</td>\n",
       "    </tr>\n",
       "    <tr>\n",
       "      <th>63</th>\n",
       "      <td>2008</td>\n",
       "      <td>Motorcycles</td>\n",
       "      <td>Motorcycles</td>\n",
       "      <td>145288</td>\n",
       "    </tr>\n",
       "    <tr>\n",
       "      <th>72</th>\n",
       "      <td>2007</td>\n",
       "      <td>Goods &amp; Other Vehicles</td>\n",
       "      <td>Goods-cum-passenger vehicles (GPVs)</td>\n",
       "      <td>5074</td>\n",
       "    </tr>\n",
       "    <tr>\n",
       "      <th>73</th>\n",
       "      <td>2008</td>\n",
       "      <td>Goods &amp; Other Vehicles</td>\n",
       "      <td>Goods-cum-passenger vehicles (GPVs)</td>\n",
       "      <td>4941</td>\n",
       "    </tr>\n",
       "    <tr>\n",
       "      <th>82</th>\n",
       "      <td>2007</td>\n",
       "      <td>Goods &amp; Other Vehicles</td>\n",
       "      <td>Light Goods Vehicles (LGVs)</td>\n",
       "      <td>91945</td>\n",
       "    </tr>\n",
       "    <tr>\n",
       "      <th>83</th>\n",
       "      <td>2008</td>\n",
       "      <td>Goods &amp; Other Vehicles</td>\n",
       "      <td>Light Goods Vehicles (LGVs)</td>\n",
       "      <td>94045</td>\n",
       "    </tr>\n",
       "    <tr>\n",
       "      <th>92</th>\n",
       "      <td>2007</td>\n",
       "      <td>Goods &amp; Other Vehicles</td>\n",
       "      <td>Heavy Goods Vehicles (HGVs)</td>\n",
       "      <td>30207</td>\n",
       "    </tr>\n",
       "    <tr>\n",
       "      <th>93</th>\n",
       "      <td>2008</td>\n",
       "      <td>Goods &amp; Other Vehicles</td>\n",
       "      <td>Heavy Goods Vehicles (HGVs)</td>\n",
       "      <td>31383</td>\n",
       "    </tr>\n",
       "    <tr>\n",
       "      <th>102</th>\n",
       "      <td>2007</td>\n",
       "      <td>Goods &amp; Other Vehicles</td>\n",
       "      <td>Very Heavy Goods Vehicles (VHGVs)</td>\n",
       "      <td>11378</td>\n",
       "    </tr>\n",
       "    <tr>\n",
       "      <th>103</th>\n",
       "      <td>2008</td>\n",
       "      <td>Goods &amp; Other Vehicles</td>\n",
       "      <td>Very Heavy Goods Vehicles (VHGVs)</td>\n",
       "      <td>12597</td>\n",
       "    </tr>\n",
       "    <tr>\n",
       "      <th>112</th>\n",
       "      <td>2007</td>\n",
       "      <td>Buses</td>\n",
       "      <td>Omnibuses</td>\n",
       "      <td>3761</td>\n",
       "    </tr>\n",
       "    <tr>\n",
       "      <th>113</th>\n",
       "      <td>2008</td>\n",
       "      <td>Buses</td>\n",
       "      <td>Omnibuses</td>\n",
       "      <td>3854</td>\n",
       "    </tr>\n",
       "    <tr>\n",
       "      <th>122</th>\n",
       "      <td>2007</td>\n",
       "      <td>Buses</td>\n",
       "      <td>School buses (CB)</td>\n",
       "      <td>1851</td>\n",
       "    </tr>\n",
       "    <tr>\n",
       "      <th>123</th>\n",
       "      <td>2008</td>\n",
       "      <td>Buses</td>\n",
       "      <td>School buses (CB)</td>\n",
       "      <td>1852</td>\n",
       "    </tr>\n",
       "    <tr>\n",
       "      <th>132</th>\n",
       "      <td>2007</td>\n",
       "      <td>Buses</td>\n",
       "      <td>Private buses</td>\n",
       "      <td>2628</td>\n",
       "    </tr>\n",
       "    <tr>\n",
       "      <th>133</th>\n",
       "      <td>2008</td>\n",
       "      <td>Buses</td>\n",
       "      <td>Private buses</td>\n",
       "      <td>2739</td>\n",
       "    </tr>\n",
       "    <tr>\n",
       "      <th>142</th>\n",
       "      <td>2007</td>\n",
       "      <td>Buses</td>\n",
       "      <td>Private hire buses</td>\n",
       "      <td>3356</td>\n",
       "    </tr>\n",
       "    <tr>\n",
       "      <th>143</th>\n",
       "      <td>2008</td>\n",
       "      <td>Buses</td>\n",
       "      <td>Private hire buses</td>\n",
       "      <td>3548</td>\n",
       "    </tr>\n",
       "    <tr>\n",
       "      <th>152</th>\n",
       "      <td>2007</td>\n",
       "      <td>Buses</td>\n",
       "      <td>Excursion buses</td>\n",
       "      <td>2596</td>\n",
       "    </tr>\n",
       "    <tr>\n",
       "      <th>153</th>\n",
       "      <td>2008</td>\n",
       "      <td>Buses</td>\n",
       "      <td>Excursion buses</td>\n",
       "      <td>2983</td>\n",
       "    </tr>\n",
       "    <tr>\n",
       "      <th>162</th>\n",
       "      <td>2007</td>\n",
       "      <td>Tax Exempted Vehicles</td>\n",
       "      <td>Cars &amp; Station-wagons</td>\n",
       "      <td>2356</td>\n",
       "    </tr>\n",
       "    <tr>\n",
       "      <th>163</th>\n",
       "      <td>2008</td>\n",
       "      <td>Tax Exempted Vehicles</td>\n",
       "      <td>Cars &amp; Station-wagons</td>\n",
       "      <td>2391</td>\n",
       "    </tr>\n",
       "    <tr>\n",
       "      <th>172</th>\n",
       "      <td>2007</td>\n",
       "      <td>Tax Exempted Vehicles</td>\n",
       "      <td>Motorcycles</td>\n",
       "      <td>858</td>\n",
       "    </tr>\n",
       "    <tr>\n",
       "      <th>173</th>\n",
       "      <td>2008</td>\n",
       "      <td>Tax Exempted Vehicles</td>\n",
       "      <td>Motorcycles</td>\n",
       "      <td>832</td>\n",
       "    </tr>\n",
       "    <tr>\n",
       "      <th>182</th>\n",
       "      <td>2007</td>\n",
       "      <td>Tax Exempted Vehicles</td>\n",
       "      <td>Buses</td>\n",
       "      <td>338</td>\n",
       "    </tr>\n",
       "    <tr>\n",
       "      <th>183</th>\n",
       "      <td>2008</td>\n",
       "      <td>Tax Exempted Vehicles</td>\n",
       "      <td>Buses</td>\n",
       "      <td>351</td>\n",
       "    </tr>\n",
       "    <tr>\n",
       "      <th>192</th>\n",
       "      <td>2007</td>\n",
       "      <td>Tax Exempted Vehicles</td>\n",
       "      <td>Goods &amp; Other Vehicles</td>\n",
       "      <td>12375</td>\n",
       "    </tr>\n",
       "    <tr>\n",
       "      <th>193</th>\n",
       "      <td>2008</td>\n",
       "      <td>Tax Exempted Vehicles</td>\n",
       "      <td>Goods &amp; Other Vehicles</td>\n",
       "      <td>13123</td>\n",
       "    </tr>\n",
       "  </tbody>\n",
       "</table>\n",
       "</div>"
      ],
      "text/plain": [
       "     year                category                                 type  number\n",
       "2    2007   Cars & Station-wagons                         Private cars  451745\n",
       "3    2008   Cars & Station-wagons                         Private cars  476634\n",
       "12   2007   Cars & Station-wagons                         Company cars   16954\n",
       "13   2008   Cars & Station-wagons                         Company cars   18246\n",
       "22   2007   Cars & Station-wagons                         Tuition cars     949\n",
       "23   2008   Cars & Station-wagons                         Tuition cars     976\n",
       "32   2007   Cars & Station-wagons                          Rental cars   11054\n",
       "33   2008   Cars & Station-wagons                          Rental cars   12391\n",
       "42   2007   Cars & Station-wagons                        Off peak cars   33983\n",
       "43   2008   Cars & Station-wagons                        Off peak cars   42208\n",
       "52   2007                   Taxis                                Taxis   24446\n",
       "53   2008                   Taxis                                Taxis   24300\n",
       "62   2007             Motorcycles                          Motorcycles  143482\n",
       "63   2008             Motorcycles                          Motorcycles  145288\n",
       "72   2007  Goods & Other Vehicles  Goods-cum-passenger vehicles (GPVs)    5074\n",
       "73   2008  Goods & Other Vehicles  Goods-cum-passenger vehicles (GPVs)    4941\n",
       "82   2007  Goods & Other Vehicles          Light Goods Vehicles (LGVs)   91945\n",
       "83   2008  Goods & Other Vehicles          Light Goods Vehicles (LGVs)   94045\n",
       "92   2007  Goods & Other Vehicles          Heavy Goods Vehicles (HGVs)   30207\n",
       "93   2008  Goods & Other Vehicles          Heavy Goods Vehicles (HGVs)   31383\n",
       "102  2007  Goods & Other Vehicles    Very Heavy Goods Vehicles (VHGVs)   11378\n",
       "103  2008  Goods & Other Vehicles    Very Heavy Goods Vehicles (VHGVs)   12597\n",
       "112  2007                   Buses                            Omnibuses    3761\n",
       "113  2008                   Buses                            Omnibuses    3854\n",
       "122  2007                   Buses                    School buses (CB)    1851\n",
       "123  2008                   Buses                    School buses (CB)    1852\n",
       "132  2007                   Buses                        Private buses    2628\n",
       "133  2008                   Buses                        Private buses    2739\n",
       "142  2007                   Buses                   Private hire buses    3356\n",
       "143  2008                   Buses                   Private hire buses    3548\n",
       "152  2007                   Buses                      Excursion buses    2596\n",
       "153  2008                   Buses                      Excursion buses    2983\n",
       "162  2007   Tax Exempted Vehicles                Cars & Station-wagons    2356\n",
       "163  2008   Tax Exempted Vehicles                Cars & Station-wagons    2391\n",
       "172  2007   Tax Exempted Vehicles                          Motorcycles     858\n",
       "173  2008   Tax Exempted Vehicles                          Motorcycles     832\n",
       "182  2007   Tax Exempted Vehicles                                Buses     338\n",
       "183  2008   Tax Exempted Vehicles                                Buses     351\n",
       "192  2007   Tax Exempted Vehicles               Goods & Other Vehicles   12375\n",
       "193  2008   Tax Exempted Vehicles               Goods & Other Vehicles   13123"
      ]
     },
     "execution_count": 50,
     "metadata": {},
     "output_type": "execute_result"
    }
   ],
   "source": [
    "condition = dataframe2['year'].isin([2007,2008])\n",
    "\n",
    "dataframe2[condition]"
   ]
  },
  {
   "cell_type": "markdown",
   "metadata": {},
   "source": [
    "#### Filtering with boolean operators\n",
    "\n",
    "##### Filtering can also be done with boolean operators, AND and OR.\n",
    "###### For AND, use &\n",
    "###### For OR, use |\n",
    "\n",
    "Example:\n",
    "- condition = dataframe2['year'] == 2006\n",
    "- condition2 = dataframe2['type'] == 'Buses'\n",
    "- dataframe2[condition & condition2]"
   ]
  },
  {
   "cell_type": "code",
   "execution_count": 55,
   "metadata": {},
   "outputs": [
    {
     "data": {
      "text/html": [
       "<div>\n",
       "<style scoped>\n",
       "    .dataframe tbody tr th:only-of-type {\n",
       "        vertical-align: middle;\n",
       "    }\n",
       "\n",
       "    .dataframe tbody tr th {\n",
       "        vertical-align: top;\n",
       "    }\n",
       "\n",
       "    .dataframe thead th {\n",
       "        text-align: right;\n",
       "    }\n",
       "</style>\n",
       "<table border=\"1\" class=\"dataframe\">\n",
       "  <thead>\n",
       "    <tr style=\"text-align: right;\">\n",
       "      <th></th>\n",
       "      <th>year</th>\n",
       "      <th>category</th>\n",
       "      <th>type</th>\n",
       "      <th>number</th>\n",
       "    </tr>\n",
       "  </thead>\n",
       "  <tbody>\n",
       "    <tr>\n",
       "      <th>181</th>\n",
       "      <td>2006</td>\n",
       "      <td>Tax Exempted Vehicles</td>\n",
       "      <td>Buses</td>\n",
       "      <td>289</td>\n",
       "    </tr>\n",
       "  </tbody>\n",
       "</table>\n",
       "</div>"
      ],
      "text/plain": [
       "     year               category   type  number\n",
       "181  2006  Tax Exempted Vehicles  Buses     289"
      ]
     },
     "execution_count": 55,
     "metadata": {},
     "output_type": "execute_result"
    }
   ],
   "source": [
    "condition = dataframe2['year'] == 2006\n",
    "condition2 = dataframe2['type'] == 'Buses'\n",
    "dataframe3 = dataframe2[condition & condition2]\n",
    "dataframe3"
   ]
  },
  {
   "cell_type": "markdown",
   "metadata": {},
   "source": [
    "#### Practice: Find the number of Off Peak Cars in 2007"
   ]
  },
  {
   "cell_type": "code",
   "execution_count": 56,
   "metadata": {},
   "outputs": [
    {
     "data": {
      "text/html": [
       "<div>\n",
       "<style scoped>\n",
       "    .dataframe tbody tr th:only-of-type {\n",
       "        vertical-align: middle;\n",
       "    }\n",
       "\n",
       "    .dataframe tbody tr th {\n",
       "        vertical-align: top;\n",
       "    }\n",
       "\n",
       "    .dataframe thead th {\n",
       "        text-align: right;\n",
       "    }\n",
       "</style>\n",
       "<table border=\"1\" class=\"dataframe\">\n",
       "  <thead>\n",
       "    <tr style=\"text-align: right;\">\n",
       "      <th></th>\n",
       "      <th>year</th>\n",
       "      <th>category</th>\n",
       "      <th>type</th>\n",
       "      <th>number</th>\n",
       "    </tr>\n",
       "  </thead>\n",
       "  <tbody>\n",
       "    <tr>\n",
       "      <th>42</th>\n",
       "      <td>2007</td>\n",
       "      <td>Cars &amp; Station-wagons</td>\n",
       "      <td>Off peak cars</td>\n",
       "      <td>33983</td>\n",
       "    </tr>\n",
       "  </tbody>\n",
       "</table>\n",
       "</div>"
      ],
      "text/plain": [
       "    year               category           type  number\n",
       "42  2007  Cars & Station-wagons  Off peak cars   33983"
      ]
     },
     "execution_count": 56,
     "metadata": {},
     "output_type": "execute_result"
    }
   ],
   "source": [
    "condition = dataframe2['year'] == 2007\n",
    "condition2 = dataframe2['type'] == 'Off peak cars'\n",
    "dataframe4 = dataframe2[condition & condition2]\n",
    "dataframe4"
   ]
  },
  {
   "cell_type": "markdown",
   "metadata": {},
   "source": [
    "### Combining 2 Dataframes together\n",
    "\n",
    "Combining dataframes together can be achieved with `pd.concat([dataframe1, dataframe2])`\n",
    "\n",
    "Combine the above 2 dataframes together and see the result."
   ]
  },
  {
   "cell_type": "code",
   "execution_count": 54,
   "metadata": {},
   "outputs": [
    {
     "data": {
      "text/html": [
       "<div>\n",
       "<style scoped>\n",
       "    .dataframe tbody tr th:only-of-type {\n",
       "        vertical-align: middle;\n",
       "    }\n",
       "\n",
       "    .dataframe tbody tr th {\n",
       "        vertical-align: top;\n",
       "    }\n",
       "\n",
       "    .dataframe thead th {\n",
       "        text-align: right;\n",
       "    }\n",
       "</style>\n",
       "<table border=\"1\" class=\"dataframe\">\n",
       "  <thead>\n",
       "    <tr style=\"text-align: right;\">\n",
       "      <th></th>\n",
       "      <th>year</th>\n",
       "      <th>category</th>\n",
       "      <th>type</th>\n",
       "      <th>number</th>\n",
       "    </tr>\n",
       "  </thead>\n",
       "  <tbody>\n",
       "    <tr>\n",
       "      <th>181</th>\n",
       "      <td>2006</td>\n",
       "      <td>Tax Exempted Vehicles</td>\n",
       "      <td>Buses</td>\n",
       "      <td>289</td>\n",
       "    </tr>\n",
       "    <tr>\n",
       "      <th>42</th>\n",
       "      <td>2007</td>\n",
       "      <td>Cars &amp; Station-wagons</td>\n",
       "      <td>Off peak cars</td>\n",
       "      <td>33983</td>\n",
       "    </tr>\n",
       "  </tbody>\n",
       "</table>\n",
       "</div>"
      ],
      "text/plain": [
       "     year               category           type  number\n",
       "181  2006  Tax Exempted Vehicles          Buses     289\n",
       "42   2007  Cars & Station-wagons  Off peak cars   33983"
      ]
     },
     "execution_count": 54,
     "metadata": {},
     "output_type": "execute_result"
    }
   ],
   "source": [
    "dataframe_combine = pd.concat([dataframe3, dataframe4])\n",
    "dataframe_combine"
   ]
  }
 ],
 "metadata": {
  "kernelspec": {
   "display_name": "Python 3",
   "language": "python",
   "name": "python3"
  },
  "language_info": {
   "codemirror_mode": {
    "name": "ipython",
    "version": 3
   },
   "file_extension": ".py",
   "mimetype": "text/x-python",
   "name": "python",
   "nbconvert_exporter": "python",
   "pygments_lexer": "ipython3",
   "version": "3.7.3"
  }
 },
 "nbformat": 4,
 "nbformat_minor": 2
}
