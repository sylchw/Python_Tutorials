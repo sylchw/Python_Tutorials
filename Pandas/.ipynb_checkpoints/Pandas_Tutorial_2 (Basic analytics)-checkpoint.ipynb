{
 "cells": [
  {
   "cell_type": "markdown",
   "metadata": {},
   "source": [
    "### Basic Analytics with Pandas\n",
    "\n",
    "#### Mean, median and mode\n",
    "#### Variance, standard deviation\n",
    "#### Skewness. kurtosis\n",
    "\n",
    "#### Datasets Required\n",
    "1.annual-motor-vehicle-population-by-vehicle-type.csv\n",
    "\n",
    "All datasets are downloaded from data.gov.sg"
   ]
  },
  {
   "cell_type": "markdown",
   "metadata": {},
   "source": [
    "### Import Pandas"
   ]
  },
  {
   "cell_type": "code",
   "execution_count": null,
   "metadata": {},
   "outputs": [],
   "source": []
  },
  {
   "cell_type": "markdown",
   "metadata": {},
   "source": [
    "### Read CSV into dataframe"
   ]
  },
  {
   "cell_type": "code",
   "execution_count": null,
   "metadata": {},
   "outputs": [],
   "source": []
  },
  {
   "cell_type": "markdown",
   "metadata": {},
   "source": [
    "### Practice displaying the first 5 records in the dataframe"
   ]
  },
  {
   "cell_type": "code",
   "execution_count": null,
   "metadata": {},
   "outputs": [],
   "source": []
  },
  {
   "cell_type": "markdown",
   "metadata": {},
   "source": [
    "### Summary of dataframe statistics\n",
    "\n",
    "Use .describe() to retrieve a summary of each of the columns in the dataframe.\n",
    "\n",
    "The 25%, 50% and 75% are the percentiles respectively."
   ]
  },
  {
   "cell_type": "code",
   "execution_count": null,
   "metadata": {},
   "outputs": [],
   "source": []
  },
  {
   "cell_type": "markdown",
   "metadata": {},
   "source": [
    "#### Categorical fields\n",
    "\n",
    "You can also describe a `selected column` that is a categorical field. In the dataset provided, the type of vehicles is a categorical field. Use df['type'].describe() to get details about type."
   ]
  },
  {
   "cell_type": "code",
   "execution_count": null,
   "metadata": {},
   "outputs": [],
   "source": []
  },
  {
   "cell_type": "markdown",
   "metadata": {},
   "source": [
    "#### Unique values\n",
    "\n",
    "To get all unique values in a dataframe, use SERIES.unique(). \n",
    "\n",
    "Reminder: A column extracted from a dataframe is called a series. Practice getting all unique vehicle types."
   ]
  },
  {
   "cell_type": "code",
   "execution_count": null,
   "metadata": {},
   "outputs": [],
   "source": []
  },
  {
   "cell_type": "markdown",
   "metadata": {},
   "source": [
    "#### Additional unique functions\n",
    "\n",
    "Find the number of unique values with .nunique()\n",
    "\n",
    "This can also be done with the .len() function by measuring the length of the array obtained from .unique() above."
   ]
  },
  {
   "cell_type": "code",
   "execution_count": null,
   "metadata": {},
   "outputs": [],
   "source": []
  },
  {
   "cell_type": "markdown",
   "metadata": {},
   "source": [
    "##### .value_counts() provides a count of each unique item in the series"
   ]
  },
  {
   "cell_type": "code",
   "execution_count": null,
   "metadata": {},
   "outputs": [],
   "source": []
  },
  {
   "cell_type": "markdown",
   "metadata": {},
   "source": [
    "### Dataframe aggregation\n",
    "\n",
    "#### Obtaining the basic analytical details\n",
    "\n",
    "##### First, create a dataframe with type == Motorcycles"
   ]
  },
  {
   "cell_type": "code",
   "execution_count": null,
   "metadata": {},
   "outputs": [],
   "source": []
  },
  {
   "cell_type": "markdown",
   "metadata": {},
   "source": [
    "### Sum, min, max.\n",
    "\n",
    "The .sum(), .min(), .max() functions. Self explanatory.\n",
    "\n",
    "The .count() function counts the number of records inside a series.\n",
    "\n",
    "Practice on the `number` of motorcycles in the newly created dataframe."
   ]
  },
  {
   "cell_type": "code",
   "execution_count": null,
   "metadata": {},
   "outputs": [],
   "source": []
  },
  {
   "cell_type": "markdown",
   "metadata": {},
   "source": [
    "### Mean, median, mode.\n",
    "\n",
    "The .mean(), .median(), .mode() functions. Self explanatory.\n",
    "\n",
    "Practice on the `number` of motorcycles in the newly created dataframe."
   ]
  },
  {
   "cell_type": "code",
   "execution_count": null,
   "metadata": {},
   "outputs": [],
   "source": []
  },
  {
   "cell_type": "markdown",
   "metadata": {},
   "source": [
    "### Variance, Standard Deviation\n",
    "\n",
    "The .var(), .std() functions. Self explanatory"
   ]
  },
  {
   "cell_type": "code",
   "execution_count": null,
   "metadata": {},
   "outputs": [],
   "source": []
  },
  {
   "cell_type": "markdown",
   "metadata": {},
   "source": [
    "### Skewness\n",
    "\n",
    "The results highlights whether the dataset is left-tailed or right-tailed. If the dataset is left-tailed, then more datapoints are higher than the mean. If the dataset is right-tailed, more datapoints are lower than the mean.\n",
    "\n",
    "Interpret the skewness as follows:\n",
    "\n",
    "- If the skewness is  0  then the observations are symmetrical.\n",
    "- If the skewness is positive  (>0)  then the dataset is skewed right (right-tailed).\n",
    "- If the skewness is negative  (<0) then the dataset is left-skewed (left-tailed).\n",
    "\n",
    "Use .skew() to find the skewness."
   ]
  },
  {
   "cell_type": "code",
   "execution_count": null,
   "metadata": {},
   "outputs": [],
   "source": []
  },
  {
   "cell_type": "markdown",
   "metadata": {},
   "source": [
    "### Kurtosis\n",
    "\n",
    "This will mean how heavy the tails are, compared to a normal distribution.\n",
    "\n",
    "Compared to a (fitted) normal distribution, if the observations have excessively `fat` tails, the kurtosis is positive. The kurtosis of a normal distribution is  0. If the observations a very light tail, then the kurtosis is negative.\n",
    "\n",
    "Use .kurt() to find the kurtosis score."
   ]
  },
  {
   "cell_type": "code",
   "execution_count": null,
   "metadata": {},
   "outputs": [],
   "source": []
  }
 ],
 "metadata": {
  "kernelspec": {
   "display_name": "Python 3",
   "language": "python",
   "name": "python3"
  },
  "language_info": {
   "codemirror_mode": {
    "name": "ipython",
    "version": 3
   },
   "file_extension": ".py",
   "mimetype": "text/x-python",
   "name": "python",
   "nbconvert_exporter": "python",
   "pygments_lexer": "ipython3",
   "version": "3.7.3"
  }
 },
 "nbformat": 4,
 "nbformat_minor": 2
}
