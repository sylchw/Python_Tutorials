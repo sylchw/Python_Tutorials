{
 "cells": [
  {
   "cell_type": "markdown",
   "metadata": {},
   "source": [
    "### Pandas Tutorial\n",
    "\n",
    "#### What is pandas?\n",
    "Pandas is a software library written for the Python programming language for data manipulation and analysis. In particular, it offers data structures and operations for manipulating numerical tables and time series.\n",
    "\n",
    "Most data will be processed with the help of `DataFrames`.\n",
    "\n",
    "List of milestones:\n",
    "\n",
    "- Key properties of a `Dataframe`\n",
    "- Read CSV into `Dataframe`\n",
    "- Read Database into `Dataframe`\n",
    "\n",
    "#### Datasets Required\n",
    "1.annual-motor-vehicle-population-by-vehicle-type.csv\n",
    "\n",
    "All datasets are downloaded from data.gov.sg"
   ]
  },
  {
   "cell_type": "markdown",
   "metadata": {},
   "source": [
    "#### Step 1. Imports"
   ]
  },
  {
   "cell_type": "code",
   "execution_count": 1,
   "metadata": {},
   "outputs": [],
   "source": [
    "#Import pandas as pd\n",
    "\n"
   ]
  },
  {
   "cell_type": "markdown",
   "metadata": {},
   "source": [
    "### Instantiating a Dataframe\n",
    "\n",
    "You can create a dataframe data from a CSV file.\n",
    "\n",
    "### For this tutorial, the dataframe used will be from this CSV file.\n",
    "\n",
    "Use pd.read_csv() to read CSV data into a Dataframe.\n",
    "csv file name = 'annual-motor-vehicle-population-by-vehicle-type.csv'\n",
    "\n",
    "Documentation can be seen [here](https://pandas.pydata.org/pandas-docs/stable/generated/pandas.read_csv.html#pandas.read_csv).\n",
    "\n",
    "CSV Source can be accessed [here](https://data.gov.sg/dataset/annual-motor-vehicle-population-by-vehicle-type?view_id=6aca1157-ea79-4e39-9e58-3e5313a9a715&resource_id=dec53407-9f97-47b8-ba89-b2070569a09e)"
   ]
  },
  {
   "cell_type": "code",
   "execution_count": 2,
   "metadata": {},
   "outputs": [
    {
     "ename": "NameError",
     "evalue": "name 'pd' is not defined",
     "output_type": "error",
     "traceback": [
      "\u001b[1;31m---------------------------------------------------------------------------\u001b[0m",
      "\u001b[1;31mNameError\u001b[0m                                 Traceback (most recent call last)",
      "\u001b[1;32m<ipython-input-2-9b144d164b4d>\u001b[0m in \u001b[0;36m<module>\u001b[1;34m\u001b[0m\n\u001b[0;32m      1\u001b[0m \u001b[1;31m#To read from CSV file\u001b[0m\u001b[1;33m\u001b[0m\u001b[1;33m\u001b[0m\u001b[1;33m\u001b[0m\u001b[0m\n\u001b[0;32m      2\u001b[0m \u001b[1;33m\u001b[0m\u001b[0m\n\u001b[1;32m----> 3\u001b[1;33m \u001b[0mdataframe\u001b[0m \u001b[1;33m=\u001b[0m \u001b[0mpd\u001b[0m\u001b[1;33m.\u001b[0m\u001b[0mread_csv\u001b[0m\u001b[1;33m(\u001b[0m\u001b[1;34m'insert csv file name here'\u001b[0m\u001b[1;33m)\u001b[0m\u001b[1;33m\u001b[0m\u001b[1;33m\u001b[0m\u001b[0m\n\u001b[0m",
      "\u001b[1;31mNameError\u001b[0m: name 'pd' is not defined"
     ]
    }
   ],
   "source": [
    "#To read from CSV file\n",
    "\n",
    "dataframe = pd.read_csv('insert csv file name here')\n"
   ]
  },
  {
   "cell_type": "markdown",
   "metadata": {},
   "source": [
    "### Do note that it is also possible to create a dataframe from a database.\n",
    "\n",
    "##### The example shown here is to create a dataframe from MSSQL.\n",
    "The code will not run here since there is no separate config file."
   ]
  },
  {
   "cell_type": "code",
   "execution_count": null,
   "metadata": {},
   "outputs": [],
   "source": [
    "#To read from Database\n",
    "#Code does not run here. For future reference\n",
    "\n",
    "#Example to query SQL\n",
    "#######IN SEPARATE YAML FILE############\n",
    "#SQL_CONFIG:\n",
    "#  server_name: FSWSQL165\\FSMSSPROD165\n",
    "#  user_name: mssqlf10n\n",
    "#  password_field: TWljcm9uMTIz\n",
    "#  database_name: F10DS_SOLUTION\n",
    "#  port_field: 1433\n",
    "#  table_name: dbo.Test_Kaiqin\n",
    "\n",
    "import pymssql\n",
    "\n",
    "sql_config = config.get('SQL_CONFIG')\n",
    "\n",
    "    server_name = sql_config.get('server_name')\n",
    "    user_name = sql_config.get('user_name')\n",
    "    password_field = base64.b64decode(sql_config['password_field']).decode('utf-8')\n",
    "    database_name = sql_config.get('database_name')\n",
    "    port_field = sql_config.get('port_field')\n",
    "\n",
    "    try:\n",
    "        conn = pymssql.connect(server=server_name, user=user_name, password=password_field,\n",
    "                               database=database_name, port=port_field)\n",
    "    except Exception:\n",
    "        raise ValueError(\"MSSQL Connection Failed\")\n",
    "\n",
    "SQL_Query = pd.read_sql_query(\n",
    "'''select\n",
    "* from dbo.Test_Kaiqin''', conn)\n",
    "\n",
    "dataframe = pd.DataFrame(SQL_Query, columns=['Column_name_1','Column_name_2','Column_name_3','Column_name_4'])\n",
    "print (dataframe)"
   ]
  },
  {
   "cell_type": "markdown",
   "metadata": {},
   "source": [
    "The commands below prints out the <b>basic details</b> of the dataframe.\n",
    "\n",
    "- dataframe.dtypes (Column types)\n",
    "- dataframe.columns (available columns)\n",
    "- dataframe.shape (number of rows and columns)\n"
   ]
  },
  {
   "cell_type": "code",
   "execution_count": null,
   "metadata": {},
   "outputs": [],
   "source": [
    "#to check column types\n",
    "\n",
    "\n",
    "\n",
    "#to check columns with columns\n",
    "\n",
    "\n",
    "\n",
    "#to check number of rows and columns\n",
    "\n",
    "\n"
   ]
  },
  {
   "cell_type": "markdown",
   "metadata": {},
   "source": [
    "The commands below prints out <b>data inside</b> the dataframe.\n",
    "\n",
    "- dataframe.head() (Prints out the first 5 data by default)\n",
    "\n",
    "Try dataframe.head(*integer*)\n",
    "\n",
    "- dataframe.sample() (Prints out a random sampled row in the dataframe)"
   ]
  },
  {
   "cell_type": "code",
   "execution_count": null,
   "metadata": {},
   "outputs": [],
   "source": [
    "#try .head()\n",
    "\n"
   ]
  },
  {
   "cell_type": "code",
   "execution_count": null,
   "metadata": {},
   "outputs": [],
   "source": [
    "#try .sample()\n",
    "\n"
   ]
  },
  {
   "cell_type": "markdown",
   "metadata": {},
   "source": [
    "### Retrieving data from a dataframe for data processing\n",
    "\n",
    "#### Retrieving columns:\n",
    "A column retrieved and stored as a variable is of type <b> series</b>.\n",
    "\n",
    "Extract the column with dataframe[\"Column_Name\"]"
   ]
  },
  {
   "cell_type": "code",
   "execution_count": null,
   "metadata": {},
   "outputs": [],
   "source": [
    "#Extract the \"year\" column and store it into series\n",
    "\n"
   ]
  },
  {
   "cell_type": "markdown",
   "metadata": {},
   "source": [
    "Similar to a dataframe, .sample() and .head() can be used to extract information"
   ]
  },
  {
   "cell_type": "code",
   "execution_count": null,
   "metadata": {},
   "outputs": [],
   "source": [
    "#Try .sample() and .head() on series\n",
    "\n"
   ]
  },
  {
   "cell_type": "markdown",
   "metadata": {},
   "source": [
    "##### Retrieve a specific record from the dataframe\n",
    "\n",
    "Retrieve a specific record from the dataframe with dataframe.iloc[]\n",
    ".iloc uses zero indexing"
   ]
  },
  {
   "cell_type": "code",
   "execution_count": null,
   "metadata": {},
   "outputs": [],
   "source": [
    "#Get the details of row index 2. Check if it has a year 2007. Name your variable row_2\n",
    "\n"
   ]
  },
  {
   "cell_type": "markdown",
   "metadata": {},
   "source": [
    "##### Complete the following code to get the number, category and type of vehicle based on the series in index 2, selected in the previous box.\n",
    "\n",
    "Use the column indexing method to retrieve data in a specific column. Eg. row_2['Column_name']"
   ]
  },
  {
   "cell_type": "code",
   "execution_count": null,
   "metadata": {},
   "outputs": [],
   "source": [
    "veh_num = 0\n",
    "veh_type = ''\n",
    "veh_cat = ''\n",
    "veh_year = 0\n",
    "###############\n",
    "\n",
    "veh_cat = \n",
    "veh_type = \n",
    "veh_num = \n",
    "veh_year = \n",
    "\n",
    "print('In ' + str(veh_year) + ', there are ' + str(veh_num) + ' ' + str(veh_type) + ' in Singapore')\n",
    "print(str(veh_type) + ' belong to the ' + str(veh_cat) + ' category.')"
   ]
  },
  {
   "cell_type": "markdown",
   "metadata": {},
   "source": [
    "### Filtering records\n",
    "\n",
    "#### You can perform filters to the dataframe to get a set of data that you want.\n",
    "\n",
    "Use the following code structure to do so.\n",
    "\n",
    "```python\n",
    "dataframe[dataframe['column'] <conditional operator> <value>]\n",
    "```\n",
    "\n",
    "----------------------------------\n",
    "\n",
    "Before filtering, it is `good practice` to perform a copy of the dataframe first, so modifications done while filtering do not affect the original dataframe.\n",
    "\n",
    "Do so with dataframe.copy()\n",
    "\n",
    "##### After which, identify the records whose number of vehicles are above 100_000\n",
    "\n",
    "Insert the condition by creating a condition variable:\n",
    "- condition = dataframe2['Column_name'] > Integer\n",
    "\n",
    "Apply the condition:\n",
    "- dataframe2[condition]\n",
    "\n",
    "Another method to filter will be to define the condition directly in the dataframe.\n",
    "- dataframe2[dataframe2['Column_name'] > Integer]"
   ]
  },
  {
   "cell_type": "code",
   "execution_count": null,
   "metadata": {},
   "outputs": [],
   "source": [
    "#Before filtering, it is good practice to perform a copy of the dataframe first, so modifications done\n",
    "#while filtering do not affect the original dataframe.\n",
    "\n",
    "#Copy the dataframe with .copy():\n",
    "\n",
    "#Set the condition\n",
    "\n",
    "#Print filtered dataframe\n"
   ]
  },
  {
   "cell_type": "markdown",
   "metadata": {},
   "source": [
    "##### Besides integers, you can use string comparators.\n",
    "\n",
    "dataframe2['type'] == 'Motorcycles and Scooters'"
   ]
  },
  {
   "cell_type": "code",
   "execution_count": null,
   "metadata": {},
   "outputs": [],
   "source": []
  },
  {
   "cell_type": "markdown",
   "metadata": {},
   "source": [
    "##### To include more than 1 string or 1 integer, you can use the .isin() function. The values inside isin() should be in a List format.\n",
    "\n",
    "Example: \n",
    "- condition = dataframe2['year'].isin([2007,2008])"
   ]
  },
  {
   "cell_type": "code",
   "execution_count": null,
   "metadata": {},
   "outputs": [],
   "source": []
  },
  {
   "cell_type": "markdown",
   "metadata": {},
   "source": [
    "#### Filtering with boolean operators\n",
    "\n",
    "##### Filtering can also be done with boolean operators, AND and OR.\n",
    "###### For AND, use &\n",
    "###### For OR, use |\n",
    "\n",
    "Example:\n",
    "- condition = dataframe2['year'] == 2006\n",
    "- condition2 = dataframe2['type'] == 'Buses'\n",
    "- dataframe2[condition & condition2]\n",
    "\n",
    "Run the example code below."
   ]
  },
  {
   "cell_type": "code",
   "execution_count": null,
   "metadata": {},
   "outputs": [],
   "source": []
  },
  {
   "cell_type": "markdown",
   "metadata": {},
   "source": [
    "#### Practice: Find the number of Off Peak Cars in 2007"
   ]
  },
  {
   "cell_type": "code",
   "execution_count": 35,
   "metadata": {},
   "outputs": [
    {
     "data": {
      "text/html": [
       "<div>\n",
       "<style scoped>\n",
       "    .dataframe tbody tr th:only-of-type {\n",
       "        vertical-align: middle;\n",
       "    }\n",
       "\n",
       "    .dataframe tbody tr th {\n",
       "        vertical-align: top;\n",
       "    }\n",
       "\n",
       "    .dataframe thead th {\n",
       "        text-align: right;\n",
       "    }\n",
       "</style>\n",
       "<table border=\"1\" class=\"dataframe\">\n",
       "  <thead>\n",
       "    <tr style=\"text-align: right;\">\n",
       "      <th></th>\n",
       "      <th>year</th>\n",
       "      <th>category</th>\n",
       "      <th>type</th>\n",
       "      <th>number</th>\n",
       "    </tr>\n",
       "  </thead>\n",
       "  <tbody>\n",
       "    <tr>\n",
       "      <th>42</th>\n",
       "      <td>2007</td>\n",
       "      <td>Cars &amp; Station-wagons</td>\n",
       "      <td>Off peak cars</td>\n",
       "      <td>33983</td>\n",
       "    </tr>\n",
       "  </tbody>\n",
       "</table>\n",
       "</div>"
      ],
      "text/plain": [
       "    year               category           type  number\n",
       "42  2007  Cars & Station-wagons  Off peak cars   33983"
      ]
     },
     "execution_count": 35,
     "metadata": {},
     "output_type": "execute_result"
    }
   ],
   "source": []
  }
 ],
 "metadata": {
  "kernelspec": {
   "display_name": "Python 3",
   "language": "python",
   "name": "python3"
  },
  "language_info": {
   "codemirror_mode": {
    "name": "ipython",
    "version": 3
   },
   "file_extension": ".py",
   "mimetype": "text/x-python",
   "name": "python",
   "nbconvert_exporter": "python",
   "pygments_lexer": "ipython3",
   "version": "3.7.3"
  }
 },
 "nbformat": 4,
 "nbformat_minor": 2
}
