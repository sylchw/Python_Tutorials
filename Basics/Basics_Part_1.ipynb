{
 "cells": [
  {
   "cell_type": "markdown",
   "metadata": {},
   "source": [
    "#### PRINT “HELLO WORLD!”*\n",
    "- Within a cell, type print(“Hello World!”) and click on the run button\n",
    "- You should see the program output “Hello World”"
   ]
  },
  {
   "cell_type": "code",
   "execution_count": null,
   "metadata": {},
   "outputs": [],
   "source": []
  },
  {
   "cell_type": "markdown",
   "metadata": {},
   "source": [
    "#### ARITHMETIC OPERATIONS\n",
    "The following are some of the basic mathematical operations in python. Try them yourselves and we’ll go through how they work together.\n",
    "\n",
    "- print(2*3)\n",
    "- print(2**3)\n",
    "- print(8/3)\n",
    "- print(8//3)\n",
    "- print(8%2)\n",
    "- print(8%3)\n"
   ]
  },
  {
   "cell_type": "code",
   "execution_count": null,
   "metadata": {},
   "outputs": [],
   "source": []
  },
  {
   "cell_type": "markdown",
   "metadata": {},
   "source": [
    "#### DEFINING VARIABLES\n",
    "\n",
    "It is essential to define variables to store information in order for a program to function.\n",
    "\n",
    "Variables are like containers. There are different types for different purposes, but since python is a nice language, you do not have to state the type before setting one, as it will automatically be determined for you.\n",
    "\n",
    "The names of variables can be used as long as it is not a restricted word in python. Restricted words are function assigned words, such as 'print', 'input', 'if', 'else', or numbers. Underscores are accepted.\n",
    "\n",
    "Some examples:\n",
    "- my_first_var = 12\n",
    "- my_second_var = 3.14159\n",
    "- my_third_var = 'This is a string'\n",
    "\n",
    "Check the variable types below by typing: print(type(my_first_var))"
   ]
  },
  {
   "cell_type": "code",
   "execution_count": null,
   "metadata": {},
   "outputs": [],
   "source": []
  },
  {
   "cell_type": "markdown",
   "metadata": {
    "collapsed": true
   },
   "source": [
    "#### Write a program that defines 3 integers and prints them out in order"
   ]
  },
  {
   "cell_type": "code",
   "execution_count": null,
   "metadata": {},
   "outputs": [],
   "source": []
  },
  {
   "cell_type": "markdown",
   "metadata": {},
   "source": [
    "#### INPUT AND OUTPUT\n",
    "A program can be written to accept user inputs, process them, and return an output. Try it out with this example provided.\n",
    "<div class=\"alert alert-block alert-info\"><center>input()\n",
    " </center></div>\n",
    " <div class=\"alert alert-block alert-info\"><center>print()\n",
    " </center></div>\n",
    " \n",
    " name = input('What is your name? ') \n",
    " \n",
    " \n",
    " print ('hello ' + name)"
   ]
  },
  {
   "cell_type": "code",
   "execution_count": null,
   "metadata": {},
   "outputs": [],
   "source": []
  },
  {
   "cell_type": "markdown",
   "metadata": {},
   "source": [
    "#### Write a program that takes in your age as input and wishes you happy (age) birthday"
   ]
  },
  {
   "cell_type": "code",
   "execution_count": null,
   "metadata": {},
   "outputs": [],
   "source": []
  },
  {
   "cell_type": "markdown",
   "metadata": {},
   "source": [
    "#### Conditional Operators\n",
    "We use conditional operators in python to check if what we are evaluating is true or false.\n",
    "\n",
    "Several examples of conditional operators are listed below.\n",
    "\n",
    "Copy and paste the code below to run it and see what happens!\n",
    "\n",
    "Do feel free to change the values and operators to experiment with it.\n",
    "\n",
    "----- COPY BELOW THIS LINE -----\n",
    "\n",
    "a = 10\n",
    "\n",
    "b = 8\n",
    "\n",
    "c = -5\n",
    "\n",
    "d = 2\n",
    "\n",
    "print(a > b)\n",
    "\n",
    "print(b < c) \n",
    "\n",
    "print(b >= c) \n",
    "\n",
    "print(c <= d) \n",
    "\n",
    "print(a == b + d) \n",
    "\n",
    "print(d <= a + c) \n",
    "\n",
    "print(c != b) \n"
   ]
  },
  {
   "cell_type": "code",
   "execution_count": null,
   "metadata": {},
   "outputs": [],
   "source": []
  },
  {
   "cell_type": "markdown",
   "metadata": {},
   "source": [
    "#### 'IF' Construct\n",
    "An 'if' construct is used to check whether if something is true. As per what you have experienced with the conditional operators above, you may use 'if' to run selected pieces of code should your expression be evaluated to true or false."
   ]
  },
  {
   "cell_type": "code",
   "execution_count": null,
   "metadata": {},
   "outputs": [],
   "source": []
  },
  {
   "cell_type": "markdown",
   "metadata": {},
   "source": [
    "#### Practice on using 'if'\n"
   ]
  },
  {
   "cell_type": "code",
   "execution_count": null,
   "metadata": {},
   "outputs": [],
   "source": []
  },
  {
   "cell_type": "markdown",
   "metadata": {},
   "source": [
    "#### Using more conditional operators with 'if'\n",
    "\n",
    "The following are details of a youtube video, make use of conditions and if structure to check the video is from Singapore, and if the views are more than 150000. <b>If it’s true, print out that “This is Singapore’s most popular video.”</b>\n"
   ]
  },
  {
   "cell_type": "code",
   "execution_count": null,
   "metadata": {},
   "outputs": [],
   "source": []
  },
  {
   "cell_type": "markdown",
   "metadata": {},
   "source": [
    "### Using 'if - else' to create alternative pathways.\n",
    "\n",
    "By using 'if' and 'else' together, should your expression evaluate to false, even though the 'if' portion may not run, you may add an 'else' portion for the code to run.\n",
    "\n",
    "To add more than 1 'else', use the construct/phrase 'elif', which stands for 'else if'"
   ]
  },
  {
   "cell_type": "code",
   "execution_count": null,
   "metadata": {},
   "outputs": [],
   "source": []
  },
  {
   "cell_type": "markdown",
   "metadata": {},
   "source": [
    "### Flow of code behind if-else\n",
    "The code will run till the first section is true, runs the code inside, and abandons the rest.\n",
    "Therefore, should alice > charlie, 'something' will not be printed as it will not be run."
   ]
  },
  {
   "cell_type": "code",
   "execution_count": null,
   "metadata": {},
   "outputs": [],
   "source": []
  },
  {
   "cell_type": "markdown",
   "metadata": {},
   "source": [
    "### Practice for if - else pathways:\n",
    "\n",
    "- The YouTube influencer management team wants to automate the payment to the influencers based on monthly views on their channel. The influencer monthly payment rules as follow:\n",
    "    - The influencer must have at least 50,000 views in the month to qualify for a payment. \n",
    "    - The influencer will be paid \\$0.01 per view if he/she has between 50,000 to 100,000 views.\n",
    "    - If the influencer has more than 100,000 he/she will be paid \\$0.05 per views <br><br>\n",
    "    \n",
    "- Write a Python program to calculate the pay for the below influencers:\n",
    "    - Tembusu_views = 126,311\n",
    "    - RVRC_views = 819\n",
    "    - CAPT = 51,101"
   ]
  },
  {
   "cell_type": "code",
   "execution_count": null,
   "metadata": {},
   "outputs": [],
   "source": []
  },
  {
   "cell_type": "markdown",
   "metadata": {},
   "source": [
    "Proceed to part 2\n"
   ]
  },
  {
   "cell_type": "code",
   "execution_count": null,
   "metadata": {},
   "outputs": [],
   "source": []
  }
 ],
 "metadata": {
  "kernelspec": {
   "display_name": "Python 3",
   "language": "python",
   "name": "python3"
  },
  "language_info": {
   "codemirror_mode": {
    "name": "ipython",
    "version": 3
   },
   "file_extension": ".py",
   "mimetype": "text/x-python",
   "name": "python",
   "nbconvert_exporter": "python",
   "pygments_lexer": "ipython3",
   "version": "3.7.1"
  }
 },
 "nbformat": 4,
 "nbformat_minor": 2
}
