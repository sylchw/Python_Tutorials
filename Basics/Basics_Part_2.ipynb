{
 "cells": [
  {
   "cell_type": "markdown",
   "metadata": {},
   "source": [
    "## Loops in python*\n",
    "- When writing code, it is useful to use loops to prevent you from writing repeated code.\n",
    "- There are 2 main types of loops, the <b> for </b> and the <b> while </b> loop."
   ]
  },
  {
   "cell_type": "markdown",
   "metadata": {},
   "source": [
    "### The WHILE loop\n",
    "- Runs while the condition given is true.\n",
    "- You must determine an ending condition, otherwise it will run indefinitely."
   ]
  },
  {
   "cell_type": "markdown",
   "metadata": {},
   "source": [
    "# Try it out! \n",
    "Type this code below:\n",
    "\n",
    "while (1):\n",
    "\n",
    "    print(\"Chicken Backside\")"
   ]
  },
  {
   "cell_type": "code",
   "execution_count": null,
   "metadata": {},
   "outputs": [],
   "source": []
  },
  {
   "cell_type": "markdown",
   "metadata": {},
   "source": [
    "### \\!\\!\\! You'll realise that this website lags and starts crashing. Find the stop kernel icon above (beside refresh) and click it to prevent it from crashing.\n",
    "\n",
    "#### Let's do it the proper way now after you found out what can happen if incorrect code was written. \n",
    "\n",
    "- Print 'hello world' 10 times"
   ]
  },
  {
   "cell_type": "code",
   "execution_count": null,
   "metadata": {},
   "outputs": [],
   "source": []
  },
  {
   "cell_type": "markdown",
   "metadata": {},
   "source": [
    "Now, print <b>'tCoders is the best IG'</b> 15 times"
   ]
  },
  {
   "cell_type": "code",
   "execution_count": null,
   "metadata": {},
   "outputs": [],
   "source": []
  },
  {
   "cell_type": "markdown",
   "metadata": {},
   "source": [
    "### For loops\n",
    "\n",
    "Technically speaking, while loop can be used to achieve everything. \n",
    "\n",
    "But for most of the time, while loop is used when we are uncertain how many loops it will take for the code to end, even though we know the ending condition.\n",
    "\n",
    "For loops are used when we know how many times we need.\n",
    "\n",
    "Below is an example of the for loop.\n"
   ]
  },
  {
   "cell_type": "code",
   "execution_count": null,
   "metadata": {},
   "outputs": [],
   "source": []
  },
  {
   "cell_type": "markdown",
   "metadata": {},
   "source": [
    "#### Try it yourself!\n",
    "\n",
    "write a program that prints 'tCoders is the best IG' 15 times, using the <b> for loop </b>"
   ]
  },
  {
   "cell_type": "code",
   "execution_count": null,
   "metadata": {},
   "outputs": [],
   "source": []
  },
  {
   "cell_type": "markdown",
   "metadata": {
    "collapsed": true
   },
   "source": [
    "### Combining input data with loops\n",
    "\n",
    "Write a program that asks for a number. If the number is entered, the program ends, otherwise, state that it is a wrong number, and continue to ask for another number."
   ]
  },
  {
   "cell_type": "code",
   "execution_count": null,
   "metadata": {},
   "outputs": [],
   "source": []
  },
  {
   "cell_type": "markdown",
   "metadata": {},
   "source": [
    "### Combining input data with loops part II\n",
    "\n",
    "Write a program that asks for a number from 1 - 10, and prints ('hello world') for the entered number of times."
   ]
  },
  {
   "cell_type": "code",
   "execution_count": null,
   "metadata": {},
   "outputs": [],
   "source": []
  },
  {
   "cell_type": "markdown",
   "metadata": {},
   "source": [
    "# Lists\n",
    "\n",
    "Lists are large containers in python that can store multiple items. \n",
    "An integer list is able to store 10 integers, for example.\n",
    "\n",
    "Below are some examples of what we can do with lists.\n"
   ]
  },
  {
   "cell_type": "code",
   "execution_count": null,
   "metadata": {},
   "outputs": [],
   "source": [
    "test_list = [1,['a','b','c'],3,4]\n",
    "#add new item to the back of the list\n",
    "test_list.append(5)\n",
    "\n",
    "#merge two list or insert multiple items into list\n",
    "test_list.extend([5,6])\n",
    "\n",
    "#retrieve the 3rd item in the list\n",
    "print(test_list[2])\n",
    "\n",
    "#retrieve the 2nd item in the nested list\n",
    "print(test_list[1][1])\n",
    "\n",
    "#remove the item with value 1\n",
    "test_list.remove(1)\n",
    "\n",
    "#remove the 3rd item in the list\n",
    "del test_list[2]\n",
    "\n",
    "#remove and return the 2nd item in the list\n",
    "test_list.pop(1)\n",
    "\n",
    "#retrieve the number of items in the list\n",
    "len(test_list)\n",
    "\n",
    "print(test_list)"
   ]
  },
  {
   "cell_type": "markdown",
   "metadata": {},
   "source": [
    "### For loops with list\n",
    "\n",
    "You can run a for loop with certain numbers that you want to come in order with a list.\n",
    "\n",
    "An example is provided below.\n",
    "\n"
   ]
  },
  {
   "cell_type": "code",
   "execution_count": null,
   "metadata": {},
   "outputs": [],
   "source": [
    "list_A = [1,3,5,7,9]\n",
    "\n",
    "for x in list_A:\n",
    "    print(x)"
   ]
  },
  {
   "cell_type": "markdown",
   "metadata": {},
   "source": [
    "#### Try it yourself!\n",
    "\n",
    "Write a program that prints out these items in your grocery list.\n",
    "- strawberry\n",
    "- milo\n",
    "- washing powder\n",
    "- eggs\n",
    "- milk\n",
    "\n",
    "Note: The above items are of type: str. Refer to last week's worksheet. How are you supposed to store string variables?"
   ]
  },
  {
   "cell_type": "code",
   "execution_count": null,
   "metadata": {},
   "outputs": [],
   "source": []
  },
  {
   "cell_type": "markdown",
   "metadata": {},
   "source": [
    "### Nested Lists\n",
    "\n",
    "Lists can have lists in them. It's able to go on and on and on.\n",
    "\n",
    "Think of list in list as a 2D matrix\n",
    "list_A = [[1,2,3],\n",
    "          [4,5,6],\n",
    "          [7,8,9]]\n",
    "\n",
    "Typically, large lists are used when you're required to process data in excel, for example.\n",
    "\n",
    "### Practice on nested lists:\n",
    "Given the nested list below, print out the names with list index method. Refer to the example above of #retrieve the 2nd item in the nested list\n"
   ]
  },
  {
   "cell_type": "code",
   "execution_count": 6,
   "metadata": {
    "collapsed": true
   },
   "outputs": [],
   "source": [
    "youtube_videos = [[1,'despacito',15000], [2,'see_you_again',5000], [3,'im_yours',3000]]\n",
    "\n",
    "##############TYPE BELOW THIS LINE#####################\n"
   ]
  },
  {
   "cell_type": "markdown",
   "metadata": {},
   "source": [
    "\n"
   ]
  },
  {
   "cell_type": "code",
   "execution_count": null,
   "metadata": {},
   "outputs": [],
   "source": [
    "\n"
   ]
  },
  {
   "cell_type": "markdown",
   "metadata": {},
   "source": [
    "#### Information retrieval\n",
    "Suppose you have 2 list that contain titles and views of three videos respectively, how can we retrieve the video views for ‘im_yours’? (hint: index function)"
   ]
  },
  {
   "cell_type": "code",
   "execution_count": null,
   "metadata": {
    "collapsed": true
   },
   "outputs": [],
   "source": [
    "video_views = [15000,5000,3000]\n",
    "video_titles = ['despacito','see_you_again','im_yours']\n",
    "\n",
    "######################TYPE BELOW THIS LINE###################################"
   ]
  },
  {
   "cell_type": "markdown",
   "metadata": {},
   "source": [
    "Proceed to part 3\n"
   ]
  },
  {
   "cell_type": "code",
   "execution_count": null,
   "metadata": {
    "collapsed": true
   },
   "outputs": [],
   "source": []
  }
 ],
 "metadata": {
  "kernelspec": {
   "display_name": "Python 3",
   "language": "python",
   "name": "python3"
  },
  "language_info": {
   "codemirror_mode": {
    "name": "ipython",
    "version": 3
   },
   "file_extension": ".py",
   "mimetype": "text/x-python",
   "name": "python",
   "nbconvert_exporter": "python",
   "pygments_lexer": "ipython3",
   "version": "3.7.1"
  }
 },
 "nbformat": 4,
 "nbformat_minor": 2
}
