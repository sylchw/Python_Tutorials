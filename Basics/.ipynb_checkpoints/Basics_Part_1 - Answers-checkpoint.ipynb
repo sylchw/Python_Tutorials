{
 "cells": [
  {
   "cell_type": "markdown",
   "metadata": {},
   "source": [
    "#### PRINT “HELLO WORLD!”*\n",
    "- Within a cell, type print(“Hello World!”) and click on the run button\n",
    "- You should see the program output “Hello World”"
   ]
  },
  {
   "cell_type": "code",
   "execution_count": 1,
   "metadata": {},
   "outputs": [
    {
     "name": "stdout",
     "output_type": "stream",
     "text": [
      "Hello World\n"
     ]
    }
   ],
   "source": [
    "print(\"Hello World\")"
   ]
  },
  {
   "cell_type": "markdown",
   "metadata": {},
   "source": [
    "#### ARITHMETIC OPERATIONS\n",
    "The following are some of the basic mathematical operations in python. Try them yourselves and we’ll go through how they work together.\n",
    "\n",
    "- print(2*3)\n",
    "- print(2**3)\n",
    "- print(8/3)\n",
    "- print(8//3)\n",
    "- print(8%2)\n",
    "- print(8%3)\n"
   ]
  },
  {
   "cell_type": "code",
   "execution_count": 2,
   "metadata": {},
   "outputs": [
    {
     "name": "stdout",
     "output_type": "stream",
     "text": [
      "2.6666666666666665\n"
     ]
    }
   ],
   "source": [
    "print(8/3)"
   ]
  },
  {
   "cell_type": "markdown",
   "metadata": {},
   "source": [
    "#### DEFINING VARIABLES\n",
    "\n",
    "It is essential to define variables to store information in order for a program to function.\n",
    "\n",
    "Variables are like containers. There are different types for different purposes, but since python is a nice language, you do not have to state the type before setting one, as it will automatically be determined for you.\n",
    "\n",
    "The names of variables can be used as long as it is not a restricted word in python. Restricted words are function assigned words, such as 'print', 'input', 'if', 'else', or numbers. Underscores are accepted.\n",
    "\n",
    "Some examples:\n",
    "- my_first_var = 12\n",
    "- my_second_var = 3.14159\n",
    "- my_third_var = 'This is a string'\n",
    "\n",
    "Check the variable types below by typing: print(type(my_first_var))"
   ]
  },
  {
   "cell_type": "code",
   "execution_count": 2,
   "metadata": {},
   "outputs": [
    {
     "name": "stdout",
     "output_type": "stream",
     "text": [
      "<class 'int'>\n",
      "<class 'float'>\n",
      "<class 'str'>\n",
      "<class 'str'>\n",
      "30\n"
     ]
    }
   ],
   "source": [
    "my_first_var = 12\n",
    "my_second_var = 3.14159\n",
    "my_third_var = 'this is a string'\n",
    "my_fourth_var = '123'\n",
    "\n",
    "alice = 10\n",
    "bob = 20\n",
    "charlie = alice + bob\n",
    "\n",
    "box = 10\n",
    "\n",
    "\n",
    "############TYPE BELOW THIS LINE####################\n",
    "\n",
    "print(       type (my_first_var)      )\n",
    "print(       type (my_second_var)      )\n",
    "print(       type (my_third_var)      )\n",
    "print(       type (my_fourth_var)      )\n",
    "print(charlie)"
   ]
  },
  {
   "cell_type": "markdown",
   "metadata": {
    "collapsed": true
   },
   "source": [
    "#### Write a program that defines 3 integers and prints them out in order"
   ]
  },
  {
   "cell_type": "code",
   "execution_count": 4,
   "metadata": {},
   "outputs": [
    {
     "name": "stdout",
     "output_type": "stream",
     "text": [
      "123\n",
      "456\n",
      "789\n",
      "456\n",
      "123 hi i'm bob 456789\n",
      "123 456 789\n"
     ]
    }
   ],
   "source": [
    "abc = 123 #abc is assigned a value of 123\n",
    "defg = 456\n",
    "hij = 789\n",
    "\n",
    "print (abc)\n",
    "print (defg)\n",
    "print (hij)\n",
    "\n",
    "print(abc - defg + hij) # summation of integers\n",
    "print(str(abc) + \" hi i'm bob \" + str(defg) + str(hij)) # its concatenation of string\n",
    "print(abc, defg, hij) #print out the numbers with space"
   ]
  },
  {
   "cell_type": "markdown",
   "metadata": {},
   "source": [
    "#### INPUT AND OUTPUT\n",
    "A program can be written to accept user inputs, process them, and return an output. Try it out with this example provided.\n",
    "<div class=\"alert alert-block alert-info\"><center>input()\n",
    " </center></div>\n",
    " <div class=\"alert alert-block alert-info\"><center>print()\n",
    " </center></div>\n",
    " \n",
    " name = input('What is your name? ') \n",
    " \n",
    " \n",
    " print ('hello ' + name)"
   ]
  },
  {
   "cell_type": "code",
   "execution_count": 6,
   "metadata": {},
   "outputs": [
    {
     "name": "stdout",
     "output_type": "stream",
     "text": [
      "What is your name? rohit\n",
      "hello rohit\n"
     ]
    }
   ],
   "source": [
    "name = input('What is your name? ') #Taking an input from the user\n",
    "\n",
    "print ('hello ' + name) #Printing out 'hello' and the input from the user stored in variable - name"
   ]
  },
  {
   "cell_type": "markdown",
   "metadata": {},
   "source": [
    "#### Write a program that takes in your age as input and wishes you happy (age) birthday"
   ]
  },
  {
   "cell_type": "code",
   "execution_count": 15,
   "metadata": {},
   "outputs": [
    {
     "name": "stdout",
     "output_type": "stream",
     "text": [
      "What is your age? 21\n",
      "happy 21 birthday! :D\n"
     ]
    }
   ],
   "source": [
    "age = input('What is your age? ')\n",
    "print('happy ' + age + ' birthday! :D')"
   ]
  },
  {
   "cell_type": "markdown",
   "metadata": {},
   "source": [
    "#### Conditional Operators\n",
    "We use conditional operators in python to check if what we are evaluating is true or false.\n",
    "\n",
    "Several examples of conditional operators are listed below.\n",
    "\n",
    "Copy and paste the code below to run it and see what happens!\n",
    "\n",
    "Do feel free to change the values and operators to experiment with it.\n",
    "\n",
    "----- COPY BELOW THIS LINE -----\n",
    "\n",
    "a = 10\n",
    "\n",
    "b = 8\n",
    "\n",
    "c = -5\n",
    "\n",
    "d = 2\n",
    "\n",
    "print(a > b)\n",
    "\n",
    "print(b < c) \n",
    "\n",
    "print(b >= c) \n",
    "\n",
    "print(c <= d) \n",
    "\n",
    "print(a == b + d) \n",
    "\n",
    "print(d <= a + c) \n",
    "\n",
    "print(c != b) \n"
   ]
  },
  {
   "cell_type": "code",
   "execution_count": 3,
   "metadata": {},
   "outputs": [
    {
     "name": "stdout",
     "output_type": "stream",
     "text": [
      "True\n",
      "False\n",
      "True\n",
      "True\n",
      "True\n",
      "True\n",
      "True\n"
     ]
    }
   ],
   "source": [
    "#Feel free to change the conditions below and see what happens\n",
    "a = 10\n",
    "b = 8\n",
    "c = -5\n",
    "d = 2\n",
    "\n",
    "print(a > b)\n",
    "\n",
    "print(b < c)\n",
    "\n",
    "print(b >= c)\n",
    "\n",
    "print(c <= d)\n",
    "\n",
    "print(a == b + d)\n",
    "\n",
    "print(d <= a + c)\n",
    "\n",
    "print(c != b)"
   ]
  },
  {
   "cell_type": "markdown",
   "metadata": {},
   "source": [
    "#### 'IF' Construct\n",
    "An 'if' construct is used to check whether if something is true. As per what you have experienced with the conditional operators above, you may use 'if' to run selected pieces of code should your expression be evaluated to true or false."
   ]
  },
  {
   "cell_type": "code",
   "execution_count": 5,
   "metadata": {
    "collapsed": true
   },
   "outputs": [],
   "source": [
    "see_you_again = 5000\n",
    "despacito = 1000\n",
    "havana = 3000\n",
    "\n",
    "if see_you_again < despacito and havana < despacito:\n",
    "    print(\"despacito has the most number of views!\")"
   ]
  },
  {
   "cell_type": "markdown",
   "metadata": {},
   "source": [
    "#### Practice on using 'if'\n"
   ]
  },
  {
   "cell_type": "code",
   "execution_count": 3,
   "metadata": {},
   "outputs": [
    {
     "name": "stdout",
     "output_type": "stream",
     "text": [
      "Infinity war has the most number of views!\n"
     ]
    }
   ],
   "source": [
    "##Try writing the codes of the various examples below, to check if infinity_war has the most number of views :D\n",
    "see_you_again = 3000\n",
    "despacito = 15\n",
    "havana = 60000\n",
    "infinity_war = 1000000\n",
    "\n",
    "############## TYPE BELOW THIS LINE ###################\n",
    "\n",
    "if see_you_again < infinity_war and despacito < infinity_war and havana < infinity_war:\n",
    "    print('Infinity war has the most number of views!')\n",
    "    \n",
    "#Try changing the number of views that infinity war has to 1000. You'll realise that the print does not come out,\n",
    "#as the condition in the 'if' operator is no longer satisfied."
   ]
  },
  {
   "cell_type": "markdown",
   "metadata": {},
   "source": [
    "#### Using more conditional operators with 'if'\n",
    "\n",
    "The following are details of a youtube video, make use of conditions and if structure to check the video is from Singapore, and if the views are more than 150000. <b>If it’s true, print out that “This is Singapore’s most popular video.”</b>\n"
   ]
  },
  {
   "cell_type": "code",
   "execution_count": 4,
   "metadata": {},
   "outputs": [
    {
     "name": "stdout",
     "output_type": "stream",
     "text": [
      "This is Singapore's most popular video\n"
     ]
    }
   ],
   "source": [
    "country = \"Singapore\"\n",
    "views = '671230'\n",
    "\n",
    "if country == \"Singapore\" and int(views) > 150000:\n",
    "    print(\"This is Singapore's most popular video\")\n",
    "\n",
    "#Try changing the number of views and check if the print statement prints out."
   ]
  },
  {
   "cell_type": "markdown",
   "metadata": {},
   "source": [
    "### Using 'if - else' to create alternative pathways.\n",
    "\n",
    "By using 'if' and 'else' together, should your expression evaluate to false, even though the 'if' portion may not run, you may add an 'else' portion for the code to run.\n",
    "\n",
    "To add more than 1 'else', use the construct/phrase 'elif', which stands for 'else if'"
   ]
  },
  {
   "cell_type": "code",
   "execution_count": 20,
   "metadata": {},
   "outputs": [
    {
     "ename": "IndentationError",
     "evalue": "expected an indented block (<ipython-input-20-06010ff3992a>, line 8)",
     "output_type": "error",
     "traceback": [
      "\u001b[1;36m  File \u001b[1;32m\"<ipython-input-20-06010ff3992a>\"\u001b[1;36m, line \u001b[1;32m8\u001b[0m\n\u001b[1;33m    The dining hall has very nice food today.\u001b[0m\n\u001b[1;37m      ^\u001b[0m\n\u001b[1;31mIndentationError\u001b[0m\u001b[1;31m:\u001b[0m expected an indented block\n"
     ]
    }
   ],
   "source": [
    "#Here is an example\n",
    "alice = 40\n",
    "bob = 50\n",
    "charlie = 30\n",
    "\n",
    "if bob < charlie:                      #bob has LESS than charlie, so it doesn't run the code inside the 'if', because 'FALSE'\n",
    "#     print('bob has more than charlie')\n",
    "elif alice > charlie:                  #alice has LESS than charlie, so it doesn't run the code inside the 'elif', because 'FALSE'\n",
    "    print('alice has more than charlie')\n",
    "else:                                  #'else' is run if all above are FALSE. NOTE: It is OKAY to have a code without 'else'\n",
    "    print('charlie has the most amount of money')\n",
    "    \n",
    "#Try changing the conditional operators ('<' , '>' , '==', etc) to see what happens"
   ]
  },
  {
   "cell_type": "markdown",
   "metadata": {},
   "source": [
    "### Flow of code behind if-else\n",
    "The code will run till the first section is true, runs the code inside, and abandons the rest.\n",
    "Therefore, should bob > alice, 'charlie has the most amount of money' will not be printed as it will not be run."
   ]
  },
  {
   "cell_type": "code",
   "execution_count": 8,
   "metadata": {},
   "outputs": [
    {
     "name": "stdout",
     "output_type": "stream",
     "text": [
      "bob has more than alice\n"
     ]
    }
   ],
   "source": [
    "#Here is an example\n",
    "alice = 100\n",
    "bob = 200\n",
    "charlie = 3000\n",
    "\n",
    "if bob > alice:\n",
    "    print('bob has more than alice')\n",
    "elif alice > charlie:\n",
    "    print('alice has more than charlie')\n",
    "else:\n",
    "    print('charlie has the most amount of money')"
   ]
  },
  {
   "cell_type": "markdown",
   "metadata": {},
   "source": [
    "### Practice for if - else pathways:\n",
    "\n",
    "- The YouTube influencer management team wants to automate the payment to the influencers based on monthly views on their channel. The influencer monthly payment rules as follow:\n",
    "    - The influencer must have at least 50,000 views in the month to qualify for a payment. \n",
    "    - The influencer will be paid \\$0.01 per view if he/she has between 50,000 to 100,000 views.\n",
    "    - If the influencer has more than 100,000 he/she will be paid \\$0.05 per views <br><br>\n",
    "    \n",
    "- Write a Python program to calculate the pay for the below influencers:\n",
    "    - Tembusu_views = 126,311\n",
    "    - RVRC_views = 819\n",
    "    - CAPT = 51,101"
   ]
  },
  {
   "cell_type": "code",
   "execution_count": 2,
   "metadata": {},
   "outputs": [
    {
     "name": "stdout",
     "output_type": "stream",
     "text": [
      "True\n",
      "False\n"
     ]
    }
   ],
   "source": [
    "Tembusu_views = 126311\n",
    "RVRC_views = 819\n",
    "CAPT_views = 51101\n",
    "\n",
    "Tembusu_paid = 0\n",
    "RVRC_paid = 0\n",
    "CAPT_paid = 0\n",
    "\n",
    "#We will learn functions in following lessons. If you know them, you can use it, else, follow the code below for the time being.\n",
    "\n",
    "#For the code below, NESTED IF is used. We will explain more about this in Week 4.\n",
    "\n",
    "#For Tembusu:\n",
    "def calculate(views):\n",
    "    paid=0\n",
    "    if views > 50000:\n",
    "        if views > 50000 and views <= 100000:\n",
    "            paid = views * 0.01\n",
    "        elif views > 100000:\n",
    "            paid = views * 0.05\n",
    "    return paid\n",
    "\n",
    "# #For RVRC:\n",
    "# if RVRC_views > 50000:\n",
    "#     if RVRC_views > 50000 and RVRC_views <= 100000:\n",
    "#         RVRC_paid = RVRC_views * 0.01\n",
    "#     elif RVRC_views > 100000:\n",
    "#         RVRC_paid = RVRC_views * 0.05\n",
    "\n",
    "# #For CAPT:\n",
    "# if CAPT_views > 50000:\n",
    "#     if CAPT_views > 50000 and CAPT_views <= 100000:\n",
    "#         CAPT_paid = CAPT_views * 0.01\n",
    "#     elif CAPT_views > 100000:\n",
    "#         CAPT_paid = CAPT_views * 0.05\n",
    "\n",
    "#Printing the earnings\n",
    "# print(\"Tembusu got paid $\" + str(Tembusu_paid) + \", RVRC got paid $\" + str(RVRC_paid) + \" and CAPT got paid $\" + str(CAPT_paid))\n",
    "    "
   ]
  },
  {
   "cell_type": "markdown",
   "metadata": {},
   "source": [
    "Proceed to part 2"
   ]
  },
  {
   "cell_type": "code",
   "execution_count": null,
   "metadata": {
    "collapsed": true
   },
   "outputs": [],
   "source": []
  }
 ],
 "metadata": {
  "kernelspec": {
   "display_name": "Python 3",
   "language": "python",
   "name": "python3"
  },
  "language_info": {
   "codemirror_mode": {
    "name": "ipython",
    "version": 3
   },
   "file_extension": ".py",
   "mimetype": "text/x-python",
   "name": "python",
   "nbconvert_exporter": "python",
   "pygments_lexer": "ipython3",
   "version": "3.7.1"
  }
 },
 "nbformat": 4,
 "nbformat_minor": 2
}
